{
 "cells": [
  {
   "attachments": {},
   "cell_type": "markdown",
   "id": "f65c0c47",
   "metadata": {},
   "source": [
    "# Read in test.tsv from model"
   ]
  },
  {
   "cell_type": "code",
   "execution_count": 14,
   "id": "572634b1",
   "metadata": {},
   "outputs": [],
   "source": [
    "import pandas as pd\n",
    "import re\n",
    "import numpy as np\n",
    "path = 'C:/Users/Leste/Desktop/'\n",
    "data=pd.read_csv(path+'test.tsv',sep=' ',header=None)\n",
    "data.columns=['text','ori_lab','new_lab']\n",
    "data['pre'] = data['ori_lab'].apply(lambda x: re.sub('-.*','',x))\n",
    "data['class_'] = data['ori_lab'].apply(lambda x: re.sub('.*-','',x))\n",
    "data['class_n'] = data['new_lab'].apply(lambda x: re.sub('.*-','',x))\n",
    "nd = data[data['class_']!='O'].reset_index(drop=True)\n",
    "B_index = nd[nd['pre']=='B'].index\n",
    "# 0: TP, 1: FP, 2: FN\n",
    "pre_conf = np.zeros((len(B_index), 3))"
   ]
  },
  {
   "cell_type": "code",
   "execution_count": 17,
   "id": "dc02f8cc",
   "metadata": {},
   "outputs": [],
   "source": [
    "for i in range(len(B_index)):\n",
    "    if i != len(B_index)-1:\n",
    "        if B_index[i] + 1 == B_index[i+1]:\n",
    "            true_lab = nd.loc[B_index[i],'ori_lab']\n",
    "            pred_lab = nd.loc[B_index[i],'new_lab']\n",
    "            if true_lab == pred_lab:\n",
    "                pre_conf[i,0] = 1\n",
    "            elif (true_lab != pred_lab) & (pred_lab != 'O'):\n",
    "                pre_conf[i,1] = 1\n",
    "            else:\n",
    "                pre_conf[i,2] = 1\n",
    "        \n",
    "        else:\n",
    "            true_lab = nd.loc[B_index[i]:(B_index[i+1]-1),'ori_lab']\n",
    "            pred_lab = nd.loc[B_index[i]:(B_index[i+1]-1),'new_lab']\n",
    "            if sum(true_lab == pred_lab) == len(true_lab):\n",
    "                pre_conf[i,0] = 1\n",
    "            elif sum([x == 'O' for x in pred_lab]) == len(true_lab):\n",
    "                pre_conf[i,2] = 1\n",
    "            else:\n",
    "                pre_conf[i,1] = 1 \n",
    "                pre_conf[i,2] = 1\n",
    "    else:\n",
    "        true_lab = nd.loc[B_index[i]:,'ori_lab']\n",
    "        pred_lab = nd.loc[B_index[i]:,'new_lab']\n",
    "        if sum(true_lab == pred_lab) == len(true_lab):\n",
    "            pre_conf[i,0] = 1\n",
    "        elif sum([x == 'O' for x in pred_lab]) == len(true_lab):\n",
    "            pre_conf[i,2] = 1\n",
    "        else:\n",
    "            pre_conf[i,1] = 1\n",
    "            pre_conf[i,2] = 1\n"
   ]
  },
  {
   "cell_type": "code",
   "execution_count": 7,
   "id": "1586e52d",
   "metadata": {},
   "outputs": [
    {
     "data": {
      "text/plain": [
       "False"
      ]
     },
     "execution_count": 7,
     "metadata": {},
     "output_type": "execute_result"
    }
   ],
   "source": []
  },
  {
   "cell_type": "code",
   "execution_count": 23,
   "id": "2eadf74a",
   "metadata": {},
   "outputs": [
    {
     "data": {
      "text/html": [
       "<div>\n",
       "<style scoped>\n",
       "    .dataframe tbody tr th:only-of-type {\n",
       "        vertical-align: middle;\n",
       "    }\n",
       "\n",
       "    .dataframe tbody tr th {\n",
       "        vertical-align: top;\n",
       "    }\n",
       "\n",
       "    .dataframe thead th {\n",
       "        text-align: right;\n",
       "    }\n",
       "</style>\n",
       "<table border=\"1\" class=\"dataframe\">\n",
       "  <thead>\n",
       "    <tr style=\"text-align: right;\">\n",
       "      <th></th>\n",
       "      <th>TP</th>\n",
       "      <th>FP</th>\n",
       "      <th>FN</th>\n",
       "    </tr>\n",
       "    <tr>\n",
       "      <th>class_</th>\n",
       "      <th></th>\n",
       "      <th></th>\n",
       "      <th></th>\n",
       "    </tr>\n",
       "  </thead>\n",
       "  <tbody>\n",
       "    <tr>\n",
       "      <th>CAD</th>\n",
       "      <td>4.0</td>\n",
       "      <td>35.0</td>\n",
       "      <td>719.0</td>\n",
       "    </tr>\n",
       "    <tr>\n",
       "      <th>DIABETES</th>\n",
       "      <td>0.0</td>\n",
       "      <td>7.0</td>\n",
       "      <td>737.0</td>\n",
       "    </tr>\n",
       "    <tr>\n",
       "      <th>FAMILY_HIST</th>\n",
       "      <td>0.0</td>\n",
       "      <td>0.0</td>\n",
       "      <td>24.0</td>\n",
       "    </tr>\n",
       "    <tr>\n",
       "      <th>HYPERLIPIDEMIA</th>\n",
       "      <td>0.0</td>\n",
       "      <td>41.0</td>\n",
       "      <td>295.0</td>\n",
       "    </tr>\n",
       "    <tr>\n",
       "      <th>HYPERTENSION</th>\n",
       "      <td>91.0</td>\n",
       "      <td>6.0</td>\n",
       "      <td>671.0</td>\n",
       "    </tr>\n",
       "    <tr>\n",
       "      <th>MEDICATION</th>\n",
       "      <td>1491.0</td>\n",
       "      <td>383.0</td>\n",
       "      <td>1125.0</td>\n",
       "    </tr>\n",
       "    <tr>\n",
       "      <th>OBESE</th>\n",
       "      <td>0.0</td>\n",
       "      <td>0.0</td>\n",
       "      <td>129.0</td>\n",
       "    </tr>\n",
       "    <tr>\n",
       "      <th>SMOKER</th>\n",
       "      <td>0.0</td>\n",
       "      <td>12.0</td>\n",
       "      <td>561.0</td>\n",
       "    </tr>\n",
       "  </tbody>\n",
       "</table>\n",
       "</div>"
      ],
      "text/plain": [
       "                    TP     FP      FN\n",
       "class_                               \n",
       "CAD                4.0   35.0   719.0\n",
       "DIABETES           0.0    7.0   737.0\n",
       "FAMILY_HIST        0.0    0.0    24.0\n",
       "HYPERLIPIDEMIA     0.0   41.0   295.0\n",
       "HYPERTENSION      91.0    6.0   671.0\n",
       "MEDICATION      1491.0  383.0  1125.0\n",
       "OBESE              0.0    0.0   129.0\n",
       "SMOKER             0.0   12.0   561.0"
      ]
     },
     "execution_count": 23,
     "metadata": {},
     "output_type": "execute_result"
    }
   ],
   "source": [
    "conf = pd.DataFrame(pre_conf, columns=['TP','FP','FN'])\n",
    "conf['class_'] = nd.loc[B_index,'class_'].reset_index(drop=True)\n",
    "conf.groupby('class_').sum()"
   ]
  },
  {
   "cell_type": "code",
   "execution_count": 5,
   "id": "770a5782",
   "metadata": {},
   "outputs": [
    {
     "name": "stderr",
     "output_type": "stream",
     "text": [
      "c:\\Users\\Leste\\anaconda3\\envs\\dataweek2\\lib\\site-packages\\seqeval\\metrics\\v1.py:57: UndefinedMetricWarning: Precision and F-score are ill-defined and being set to 0.0 in labels with no predicted samples. Use `zero_division` parameter to control this behavior.\n",
      "  _warn_prf(average, modifier, msg_start, len(result))\n"
     ]
    }
   ],
   "source": [
    "from seqeval.metrics import accuracy_score\n",
    "from seqeval.metrics import classification_report\n",
    "from seqeval.metrics import f1_score\n",
    "y_true = [data.ori_lab.values.tolist()]\n",
    "y_pred = [data.new_lab.values.tolist()]\n",
    "f1_score(y_true, y_pred)\n",
    "a = classification_report(y_true, y_pred)"
   ]
  },
  {
   "cell_type": "code",
   "execution_count": 6,
   "id": "683a8882",
   "metadata": {},
   "outputs": [
    {
     "name": "stdout",
     "output_type": "stream",
     "text": [
      "                precision    recall  f1-score   support\n",
      "\n",
      "           CAD       0.08      0.01      0.01       731\n",
      "      DIABETES       0.00      0.00      0.00       738\n",
      "   FAMILY_HIST       0.00      0.00      0.00        24\n",
      "HYPERLIPIDEMIA       0.00      0.00      0.00       336\n",
      "  HYPERTENSION       0.61      0.12      0.20       763\n",
      "    MEDICATION       0.58      0.57      0.57      2616\n",
      "         OBESE       0.00      0.00      0.00       129\n",
      "        SMOKER       0.00      0.00      0.00       562\n",
      "\n",
      "     micro avg       0.57      0.27      0.37      5899\n",
      "     macro avg       0.16      0.09      0.10      5899\n",
      "  weighted avg       0.34      0.27      0.28      5899\n",
      "\n"
     ]
    }
   ],
   "source": [
    "print(a)"
   ]
  },
  {
   "cell_type": "code",
   "execution_count": 16,
   "id": "32be0050",
   "metadata": {},
   "outputs": [
    {
     "data": {
      "text/plain": [
       "class_\n",
       "CAD                 25\n",
       "DIABETES             0\n",
       "FAMILY_HIST          0\n",
       "HYPERLIPIDEMIA       0\n",
       "HYPERTENSION        92\n",
       "MEDICATION        1824\n",
       "OBESE                0\n",
       "SMOKER               0\n",
       "dtype: int64"
      ]
     },
     "execution_count": 16,
     "metadata": {},
     "output_type": "execute_result"
    }
   ],
   "source": [
    "data[(data.class_ != \"O\")].groupby('class_').apply(lambda x: sum(x.new_lab == x.ori_lab))\n",
    "#data[(data.class_ != \"O\")].groupby('class_').apply(lambda x: sum((x.new_lab != x.ori_lab) & (x.new_lab !=\"O\")))"
   ]
  }
 ],
 "metadata": {
  "kernelspec": {
   "display_name": "Python 3.9.13 ('dataweek2')",
   "language": "python",
   "name": "python3"
  },
  "language_info": {
   "codemirror_mode": {
    "name": "ipython",
    "version": 3
   },
   "file_extension": ".py",
   "mimetype": "text/x-python",
   "name": "python",
   "nbconvert_exporter": "python",
   "pygments_lexer": "ipython3",
   "version": "3.9.13"
  },
  "vscode": {
   "interpreter": {
    "hash": "4600a15e5b6b646e3db8b2d8ebb346444f23fb424fa93d368313be03df29f350"
   }
  }
 },
 "nbformat": 4,
 "nbformat_minor": 5
}

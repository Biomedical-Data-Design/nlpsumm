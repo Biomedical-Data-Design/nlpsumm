{
 "cells": [
  {
   "cell_type": "markdown",
   "id": "f65c0c47",
   "metadata": {},
   "source": [
    "# Split text and tag\n",
    "\n",
    "Smoker and Family_hist can have no tag"
   ]
  },
  {
   "cell_type": "code",
   "execution_count": null,
   "id": "be1a3360",
   "metadata": {},
   "outputs": [],
   "source": [
    "#according to flair corpus \"UD_ENGLISH\", train:test:dev = 6:1:1\n",
    "from os import listdir\n",
    "from sklearn.model_selection import train_test_split\n",
    "file_path_1 = \"C:/Users/Leste/Desktop/BDD data/extracted/training-RiskFactors-Complete-Set1/\"\n",
    "file_path_2 = \"C:/Users/Leste/Desktop/BDD data/extracted/training-RiskFactors-Complete-Set2/\"\n",
    "names_1 = [f for f in listdir(file_path_1) if f.endswith('.xml')]\n",
    "names_2 = [f for f in listdir(file_path_2) if f.endswith('.xml')]\n",
    "train_n_1, test_n_1 = train_test_split(names_1, test_size=0.125, random_state=42)\n",
    "train_n_1, dev_n_1 = train_test_split(train_n_1, test_size=1/7, random_state=42)\n",
    "print(len(train_n_1), len(test_n_1), len(dev_n_1))\n",
    "\n",
    "train_n_2, test_n_2 = train_test_split(names_2, test_size=0.125, random_state=42)\n",
    "train_n_2, dev_n_2 = train_test_split(train_n_2, test_size=1/7, random_state=42)\n",
    "print(len(train_n_2), len(test_n_2), len(dev_n_2))\n"
   ]
  },
  {
   "cell_type": "code",
   "execution_count": null,
   "id": "ce1094e6",
   "metadata": {},
   "outputs": [],
   "source": [
    "import pandas as pd\n",
    "import numpy as np\n",
    "all1_df = pd.DataFrame(np.zeros((len(names_1), 2), dtype=object), columns=['text', 'annotation'])\n",
    "all2_df = pd.DataFrame(np.zeros((len(names_2), 2), dtype=object), columns=['text', 'annotation'])"
   ]
  },
  {
   "cell_type": "code",
   "execution_count": null,
   "id": "18994392",
   "metadata": {},
   "outputs": [],
   "source": [
    "import re\n",
    "import numpy as np\n",
    "import pandas as pd\n",
    "import xml.etree.ElementTree as ET\n",
    "\n",
    "train_df_1 = pd.DataFrame(np.zeros((len(train_n_1), 2), dtype=object), columns=['text', 'annotation'])\n",
    "dev_df_1 = pd.DataFrame(np.zeros((len(dev_n_1), 2), dtype=object), columns=['text', 'annotation'])\n",
    "test_df_1 = pd.DataFrame(np.zeros((len(test_n_1), 2), dtype=object), columns=['text', 'annotation'])\n",
    "train_df_2 = pd.DataFrame(np.zeros((len(train_n_2), 2), dtype=object), columns=['text', 'annotation'])\n",
    "dev_df_2 = pd.DataFrame(np.zeros((len(dev_n_2), 2), dtype=object), columns=['text', 'annotation'])\n",
    "test_df_2 = pd.DataFrame(np.zeros((len(test_n_2), 2), dtype=object), columns=['text', 'annotation'])\n",
    "\n",
    "def to_df(names,df, file_path,PHI_status = True):\n",
    "    #get text\n",
    "    n = 0\n",
    "    for name in names:\n",
    "        tree = ET.parse(file_path + name)\n",
    "        root = tree.getroot()\n",
    "\n",
    "        ## Get the text\n",
    "        nt = re.sub('\\n',' ',root[0].text)\n",
    "        nt = re.sub('\\t',' ',nt) \n",
    "        nt = re.sub('\"',\"'\",nt)\n",
    "        ## sample 214 has a weird character\n",
    "        nt = re.sub('>','&gt;',nt) \n",
    "        nt = re.sub('<','&lt;',nt)\n",
    "        df['text'][n] = nt\n",
    "        n+=1\n",
    "    \n",
    "    #get annotations\n",
    "    n = 0\n",
    "    for name in names:\n",
    "        tree = ET.parse(file_path + name)\n",
    "        root = tree.getroot()\n",
    "        ## Get the labels\n",
    "\n",
    "        tag_list = []\n",
    "        # get PHI labels if there are any\n",
    "        if PHI_status == True:\n",
    "            PHI = [root[1][x].tag for x in range(len(root[1]))].index('PHI')\n",
    "            for k in range(PHI,len(root[1])):\n",
    "                tag_list.append((root[1][k].attrib['text'],root[1][k].tag))\n",
    "        \n",
    "        # get the rest of labels\n",
    "        for k in range(len(root[1])):\n",
    "            for m in range(len(root[1][k])):\n",
    "                if root[1][k][m].attrib.keys().__contains__('text') == False:\n",
    "                    continue\n",
    "                tag_list.append((root[1][k][m].attrib['text'],root[1][k][m].tag))\n",
    "        \n",
    "        df['annotation'][n] = tag_list\n",
    "        n+=1\n",
    "    return df\n",
    "\n",
    "#train_1 = to_df(train_n_1,train_df_1, file_path_1)\n",
    "#dev_1 = to_df(dev_n_1,dev_df_1, file_path_1)\n",
    "#test_1 = to_df(test_n_1,test_df_1, file_path_1)\n",
    "#train_2 = to_df(train_n_2,train_df_2, file_path_2, PHI_status = False)\n",
    "#dev_2 = to_df(dev_n_2,dev_df_2, file_path_2, PHI_status = False)\n",
    "#test_2 = to_df(test_n_2,test_df_2, file_path_2, PHI_status = False)\n",
    "#all_1 = to_df(names_1,all1_df, file_path_1)\n",
    "all_2 = to_df(names_2,all2_df, file_path_2, PHI_status = False)"
   ]
  },
  {
   "cell_type": "code",
   "execution_count": null,
   "id": "b40ace78",
   "metadata": {},
   "outputs": [],
   "source": [
    "train = pd.concat([train_1, train_2], ignore_index=True)\n",
    "dev = pd.concat([dev_1, dev_2], ignore_index=True)\n",
    "test = pd.concat([test_1, test_2], ignore_index=True)"
   ]
  },
  {
   "cell_type": "code",
   "execution_count": null,
   "id": "a032ef86",
   "metadata": {},
   "outputs": [],
   "source": [
    "\n",
    "tree = ET.parse(file_path + train_n[365])\n",
    "root = tree.getroot()\n",
    "PHI = [root[1][x].tag for x in range(len(root[1]))].index('PHI')\n",
    "for k in range(PHI,len(root[1])):\n",
    "    print((root[1][k].attrib['text'],root[1][k].tag))\n"
   ]
  },
  {
   "cell_type": "code",
   "execution_count": null,
   "id": "677e0d6d",
   "metadata": {},
   "outputs": [],
   "source": [
    "train['annotation'][365]"
   ]
  },
  {
   "cell_type": "markdown",
   "id": "f93ebd4f",
   "metadata": {},
   "source": [
    "# Functions to convert dataframe into input format\n",
    "520 files takes 3 min\\\n",
    "Please use create_labs function instead of mark_sentences\\\n",
    "source: https://medium.com/thecyphy/training-custom-ner-model-using-flair-df1f9ea9c762\n"
   ]
  },
  {
   "cell_type": "code",
   "execution_count": null,
   "id": "d4e3a81d",
   "metadata": {},
   "outputs": [],
   "source": [
    "from tqdm import tqdm\n",
    "from difflib import SequenceMatcher\n",
    "import pickle\n",
    "\n",
    "def matcher(string, pattern):\n",
    "    '''\n",
    "    Return the start and end index of any pattern present in the text.\n",
    "    '''\n",
    "    match_list = []\n",
    "    pattern = pattern.strip()\n",
    "    seqMatch = SequenceMatcher(None, string, pattern, autojunk=False)\n",
    "    match = seqMatch.find_longest_match(0, len(string), 0, len(pattern))\n",
    "    if (match.size == len(pattern)):\n",
    "        start = match.a\n",
    "        end = match.a + match.size\n",
    "        match_tup = (start, end)\n",
    "        string = string.replace(pattern, \"X\" * len(pattern), 1)\n",
    "        match_list.append(match_tup)\n",
    "        \n",
    "    return match_list, string\n",
    "\n",
    "\n",
    "def mark_sentence(s, match_list):\n",
    "    '''\n",
    "    Marks all the entities in the sentence as per the BIO scheme. \n",
    "    '''\n",
    "    word_dict = {}\n",
    "    for word in s.split():\n",
    "        word_dict[word] = 'O'\n",
    "        \n",
    "    for start, end, e_type in match_list:\n",
    "        temp_str = s[start:end]\n",
    "        tmp_list = temp_str.split()\n",
    "        if len(tmp_list) > 1:\n",
    "            word_dict[tmp_list[0]] = 'B-' + e_type\n",
    "            for w in tmp_list[1:]:\n",
    "                word_dict[w] = 'I-' + e_type\n",
    "        else:\n",
    "            word_dict[temp_str] = 'B-' + e_type\n",
    "    return word_dict\n",
    "\n",
    "## replace !!mark_sentence!! to better label the text with more than one word\n",
    "def create_labs(s,match_list):\n",
    "    labs = ['O' for i in range(len(s.split()))]\n",
    "    word_dict = pd.DataFrame({'word':s.split(),'label':labs})\n",
    "\n",
    "    for start, end, e_type in match_list:\n",
    "        index = len(re.findall(r' +',s[0:start]))-1\n",
    "        num_words = len(s[start:end].split())\n",
    "\n",
    "        if num_words > 1:\n",
    "            word_dict.loc[index,'label'] = 'B-' + e_type\n",
    "            for i in range(1,num_words):\n",
    "                word_dict.loc[index+i,'label'] = 'I-' + e_type\n",
    "        else:\n",
    "            word_dict.loc[index,'label'] = 'B-' + e_type\n",
    "    return word_dict\n",
    "\n",
    "def clean(text):\n",
    "    '''\n",
    "    Just a helper fuction to add a space before the punctuations for better tokenization\n",
    "    '''\n",
    "    filters = [\"!\", \"#\", \"$\", \"%\", \"&\", \"(\", \")\", \"/\", \"*\", \".\", \":\", \";\", \"<\", \"=\", \">\", \"?\", \"@\", \"[\",\n",
    "               \"\\\\\", \"]\", \"_\", \"`\", \"{\", \"}\", \"~\", \"'\"]\n",
    "    for i in text:\n",
    "        if i in filters:\n",
    "            text = text.replace(i, \" \" + i)\n",
    "            \n",
    "    return text\n",
    "\n",
    "def to_txt(df, filepath):\n",
    "    '''\n",
    "    The function responsible for the creation of data in the said format.\n",
    "    '''\n",
    "    with open(filepath , 'w') as f:\n",
    "        for text, annotation in zip(df.text, df.annotation):\n",
    "            #text = clean(text)\n",
    "            #text_ = text    \n",
    "            print(df.index[df['text']== text].tolist())    \n",
    "            match_list = []\n",
    "            for i in annotation:\n",
    "                a, text_ = matcher(text, i[0])\n",
    "                match_list.append((a[0][0], a[0][1], i[1]))\n",
    "\n",
    "            d = create_labs(text, match_list)\n",
    "\n",
    "            #for i in d.keys():\n",
    "            #    f.writelines(i + ' ' + d[i] +'\\n')\n",
    "            #f.writelines('\\n')\n",
    "            for i in range(d.shape[0]):\n",
    "                f.writelines(d['word'][i] + ' ' + d['label'][i] +'\\n')\n",
    "            f.writelines('\\n')\n",
    "def to_csv(df, filepath):\n",
    "    for text, annotation in zip(df.text, df.annotation):\n",
    "            #text = clean(text)\n",
    "            #text_ = text    \n",
    "            print(df.index[df['text']== text].tolist())    \n",
    "            match_list = []\n",
    "            for i in annotation:\n",
    "                a, text_ = matcher(text, i[0])\n",
    "                match_list.append((a[0][0], a[0][1], i[1]))\n",
    "\n",
    "            d = create_labs(text, match_list)\n",
    "            d.to_csv(filepath, index = False, header = False, mode = 'a')\n",
    "            \n",
    "def main(input,save_path):\n",
    "    ## An example dataframe.\n",
    "    #data = pd.DataFrame([[\"Horses are too tall and they pretend to care about your feelings\", [(\"Horses\", \"ANIMAL\")]],\n",
    "    #              [\"Who is Shaka Khan?\", [(\"Shaka Khan\", \"PERSON\")]],\n",
    "    #              [\"I like London and Berlin.\", [(\"London\", \"LOCATION\"), (\"Berlin\", \"LOCATION\")]],\n",
    "    #              [\"There is a banyan tree in the courtyard\", [(\"banyan tree\", \"TREE\")]]], columns=['text', 'annotation'])\n",
    "    data = input\n",
    "    ## path to save the txt file.\n",
    "    ## creating the file.\n",
    "    to_txt(data, save_path)\n",
    "    \n",
    "#if __name__ == '__main__':\n",
    "path = 'C:/Users/Leste/Documents/GitHub/nlpsumm/BERT/data_processed/'\n",
    "#main(train,path+'train.csv')\n",
    "#main(dev,path+'dev.csv')\n",
    "#main(test,path+'test.csv')\n",
    "#main(all_1,path+'all_1.txt')\n",
    "main(all_2,path+'all_2.txt')"
   ]
  },
  {
   "cell_type": "markdown",
   "id": "538e09a0",
   "metadata": {},
   "source": [
    "# Bunch of code for testing errors\n",
    "## trash"
   ]
  },
  {
   "cell_type": "code",
   "execution_count": null,
   "id": "d0e5bb45",
   "metadata": {},
   "outputs": [],
   "source": [
    "def matcher(string, pattern):\n",
    "    '''\n",
    "    Return the start and end index of any pattern present in the text.\n",
    "    '''\n",
    "    match_list = []\n",
    "    pattern = pattern.strip()\n",
    "    seqMatch = SequenceMatcher(None, string, pattern, autojunk=False)\n",
    "    match = seqMatch.find_longest_match(0, len(string), 0, len(pattern))\n",
    "    if (match.size == len(pattern)):\n",
    "        start = match.a\n",
    "        end = match.a + match.size\n",
    "        match_tup = (start, end)\n",
    "        string = string.replace(pattern, \"X\" * len(pattern), 1)\n",
    "        match_list.append(match_tup)\n",
    "        \n",
    "    return match_list, string\n",
    "text = train['text'][0]\n",
    "annotation = train['annotation'][0]\n",
    "#pattern = pattern.strip()\n",
    "match_list = []\n",
    "for i in annotation:\n",
    "    a, text_ = matcher(text, i[0])\n",
    "    match_list.append((a[0][0], a[0][1], i[1]))\n",
    "\n",
    "\n",
    "match_list"
   ]
  },
  {
   "cell_type": "code",
   "execution_count": null,
   "id": "2201cccf",
   "metadata": {},
   "outputs": [],
   "source": [
    "def create_labs(s,match_list):\n",
    "    labs = ['O' for i in range(len(s.split()))]\n",
    "    word_dict = pd.DataFrame({'word':s.split(),'label':labs})\n",
    "\n",
    "    for start, end, e_type in match_list:\n",
    "        index = len(re.findall(r' +',s[0:start]))-1\n",
    "        num_words = len(s[start:end].split())\n",
    "        index,num_words\n",
    "\n",
    "        if num_words > 1:\n",
    "            word_dict.loc[index,'label'] = 'B-' + e_type\n",
    "            for i in range(1,num_words):\n",
    "                word_dict.loc[index+i,'label'] = 'I-' + e_type\n",
    "        else:\n",
    "            word_dict.loc[index,'label'] = 'B-' + e_type\n",
    "    return word_dict\n",
    "\n",
    "x = create_labs(train['text'][0],match_list)"
   ]
  },
  {
   "cell_type": "markdown",
   "id": "6f855646",
   "metadata": {},
   "source": [
    "## test how to find the word using index"
   ]
  },
  {
   "cell_type": "code",
   "execution_count": null,
   "id": "3754ca0f",
   "metadata": {},
   "outputs": [],
   "source": [
    "        \n",
    "a = s.split()\n",
    "a.index('smoking')\n",
    "len(re.findall(r' +',s[0:start]))\n",
    "a[86],len(s[start:end].split())\n",
    "#temp_str = pd.DataFrame(s.split(), columns=['word'])\n",
    "#temp_str['len'] = temp_str['word'].apply(lambda x: len(x))\n",
    "#temp_str['cumsum'] = temp_str['len'].cumsum()\n",
    "#temp_str"
   ]
  },
  {
   "cell_type": "markdown",
   "id": "9a2de0ab",
   "metadata": {},
   "source": [
    "## find which label went crazy and can't match text"
   ]
  },
  {
   "cell_type": "code",
   "execution_count": null,
   "id": "a7771983",
   "metadata": {},
   "outputs": [],
   "source": [
    "match_list = []\n",
    "text = train['text'][176]\n",
    "#text = \"Horses are too tall and they pretend to care about your feelings\"\n",
    "annotation = train['annotation'][176]\n",
    "for i in annotation:\n",
    "    print(i)\n",
    "    a, text_ = matcher(text, i[0])\n",
    "    print(a)\n",
    "    match_list.append((a[0][0], a[0][1], i[1]))\n",
    "    \n"
   ]
  },
  {
   "cell_type": "code",
   "execution_count": null,
   "id": "eafaa13d",
   "metadata": {},
   "outputs": [],
   "source": [
    "train['text'][214]\n",
    "#tree = ET.parse(file_path + names[62])\n",
    "#root = tree.getroot()\n",
    "#root[0].text"
   ]
  },
  {
   "cell_type": "code",
   "execution_count": null,
   "id": "06f3dd94",
   "metadata": {},
   "outputs": [],
   "source": [
    "names[214]"
   ]
  },
  {
   "cell_type": "code",
   "execution_count": null,
   "id": "9e1f304d",
   "metadata": {},
   "outputs": [],
   "source": [
    "tree = ET.parse(file_path + names[0])\n",
    "root = tree.getroot()\n",
    "## Get the labels\n",
    "# skip FAMILY_HIST: doesn't have a text\n",
    "#skip = [root[1][x].tag for x in range(len(root[1]))].index('FAMILY_HIST')\n",
    "PHI = [root[1][x].tag for x in range(len(root[1]))].index('PHI')\n",
    "# get all labels except for PHI\n",
    "tag_list = []\n",
    "root[1][5][0].attrib['text']"
   ]
  },
  {
   "cell_type": "markdown",
   "id": "9f5abe06",
   "metadata": {},
   "source": [
    "# create a list of tag as tuple"
   ]
  },
  {
   "cell_type": "code",
   "execution_count": null,
   "id": "02b84b3b",
   "metadata": {},
   "outputs": [],
   "source": [
    "from flair.data import Corpus\n",
    "from flair.datasets import ColumnCorpus\n",
    "# define columns\n",
    "columns = {0 : 'text', 1 : 'ner'}\n",
    "# directory where the data resides\n",
    "data_folder = 'C:/Users/Leste/Desktop/BDD data'\n",
    "# initializing the corpus\n",
    "corpus: Corpus = ColumnCorpus(data_folder, columns,\n",
    "                              train_file = 'train.txt')"
   ]
  },
  {
   "cell_type": "code",
   "execution_count": null,
   "id": "23eb1177",
   "metadata": {},
   "outputs": [],
   "source": [
    "corpus.train[0].to_tagged_string('ner')"
   ]
  },
  {
   "cell_type": "code",
   "execution_count": null,
   "id": "5a5aa772",
   "metadata": {},
   "outputs": [],
   "source": [
    "file_path = \"C:/Users/Leste/Desktop/BDD data/extracted/training-RiskFactors-Complete-Set1/\"\n",
    "names = [f for f in listdir(file_path) if f.endswith('.xml')]\n",
    "tree = ET.parse(file_path + names[0])\n",
    "root = tree.getroot()\n",
    "\n",
    "## skip FAMILY_HIST: doesn't have a text\n",
    "skip = [root[1][x].tag for x in range(len(root[1]))].index('FAMILY_HIST')\n",
    "PHI = [root[1][x].tag for x in range(len(root[1]))].index('PHI')\n",
    "\n",
    "## get all labels except for PHI\n",
    "tag_list = []\n",
    "for n in range(len(root[1])):\n",
    "    if n == skip:\n",
    "        continue\n",
    "    for m in range(len(root[1][n])):\n",
    "        tag_list.append((root[1][n][m].attrib['text'],root[1][n][m].tag))\n",
    "\n",
    "## get PHI labels\n",
    "for n in range(PHI,len(root[1])):\n",
    "    tag_list.append((root[1][n].attrib['text'],root[1][n].tag))"
   ]
  },
  {
   "cell_type": "markdown",
   "id": "e4d8dbe9",
   "metadata": {},
   "source": [
    "## clean the text"
   ]
  },
  {
   "cell_type": "markdown",
   "id": "72322f28",
   "metadata": {},
   "source": [
    "## Use trained model from flair"
   ]
  },
  {
   "cell_type": "code",
   "execution_count": null,
   "id": "aac7ffed",
   "metadata": {},
   "outputs": [],
   "source": [
    "from flair.models import SequenceTagger\n",
    "from flair.tokenization import SegtokSentenceSplitter\n",
    "splitter = SegtokSentenceSplitter()\n",
    "tagger = SequenceTagger.load('ner')\n",
    "test = text_list[names[0]]\n",
    "sentences = splitter.split(test)\n",
    "sentences\n"
   ]
  },
  {
   "cell_type": "markdown",
   "id": "1f8afa84",
   "metadata": {},
   "source": [
    "## Try training NER with BERT"
   ]
  },
  {
   "cell_type": "code",
   "execution_count": null,
   "id": "a684b7e6",
   "metadata": {},
   "outputs": [],
   "source": [
    "# create my corpus\n",
    "from flair.data import Corpus\n",
    "from flair.datasets import ColumnCorpus\n",
    "\n",
    "# this is the folder in which train, test and dev files reside\n",
    "data_folder = 'C:/Users/Leste/Documents/GitHub/nlpsumm/BERT/data_processed'\n",
    "\n",
    "# column format indicating which columns hold the text and label(s)\n",
    "columns = {0: 'text', 1: 'ner'}\n",
    "\n",
    "corpus: Corpus = ColumnCorpus(data_folder,columns,\n",
    "                              train_file = 'all_2.txt')"
   ]
  },
  {
   "cell_type": "code",
   "execution_count": null,
   "id": "533dcfd4",
   "metadata": {},
   "outputs": [],
   "source": [
    "from flair.embeddings import TransformerWordEmbeddings\n",
    "from flair.models import SequenceTagger\n",
    "from flair.trainers import ModelTrainer\n",
    "\n",
    "\n",
    "from flair.data import Corpus\n",
    "from flair.datasets import ColumnCorpus\n",
    "\n",
    "# 1. get the corpus (create my corpus)\n",
    "#file location\n",
    "data_folder = 'C:/Users/Leste/Documents/GitHub/nlpsumm/BERT/data_processed'\n",
    "\n",
    "# column format indicating which columns hold the text and label(s)\n",
    "columns = {0: 'text', 1: 'ner'}\n",
    "\n",
    "corpus: Corpus = ColumnCorpus(data_folder,columns,\n",
    "                              train_file = 'all_1.txt')\n"
   ]
  },
  {
   "cell_type": "code",
   "execution_count": null,
   "id": "94621d8d",
   "metadata": {},
   "outputs": [],
   "source": [
    "print(corpus.train[0].to_tagged_string('ner'))"
   ]
  },
  {
   "cell_type": "code",
   "execution_count": null,
   "id": "f0cd688e",
   "metadata": {},
   "outputs": [],
   "source": [
    "\n",
    "# 2. what label do we want to predict?\n",
    "label_type = 'ner'\n",
    "\n",
    "\n",
    "# 3. make the label dictionary from the corpus\n",
    "label_dict = corpus.make_label_dictionary(label_type=label_type)\n",
    "print(label_dict)\n"
   ]
  },
  {
   "cell_type": "code",
   "execution_count": null,
   "id": "37eae9d5",
   "metadata": {},
   "outputs": [],
   "source": [
    "\n",
    "# 4. initialize fine-tuneable transformer embeddings WITH document context\n",
    "embeddings = TransformerWordEmbeddings(model='bert-base-uncased',\n",
    "                                       layers=\"-1\",\n",
    "                                       subtoken_pooling=\"first\",\n",
    "                                       fine_tune=True,\n",
    "                                       use_context=True,\n",
    "                                       )\n"
   ]
  },
  {
   "cell_type": "code",
   "execution_count": null,
   "id": "a929f9a6",
   "metadata": {},
   "outputs": [],
   "source": [
    "\n",
    "# 5. initialize bare-bones sequence tagger (no CRF, no RNN, no reprojection)\n",
    "tagger = SequenceTagger(hidden_size=256,\n",
    "                        embeddings=embeddings,\n",
    "                        tag_dictionary=label_dict,\n",
    "                        tag_type=label_type,\n",
    "                        use_crf=False,\n",
    "                        use_rnn=False,\n",
    "                        reproject_embeddings=False,\n",
    "                        )\n"
   ]
  },
  {
   "cell_type": "code",
   "execution_count": null,
   "id": "a755c1d3",
   "metadata": {},
   "outputs": [],
   "source": [
    "\n",
    "# 6. initialize trainer\n",
    "trainer = ModelTrainer(tagger, corpus)\n"
   ]
  },
  {
   "cell_type": "code",
   "execution_count": null,
   "id": "5553834b",
   "metadata": {},
   "outputs": [],
   "source": [
    "\n",
    "# 7. run fine-tuning\n",
    "trainer.fine_tune('C:/Users/Leste/Documents/GitHub/nlpsumm/BERT/example-berta',\n",
    "                  learning_rate=0.1,\n",
    "                  mini_batch_size=32,\n",
    "                  mini_batch_chunk_size=1,  # remove this parameter to speed up computation if you have a big GPU\n",
    "                  max_epochs = 10)"
   ]
  }
 ],
 "metadata": {
  "kernelspec": {
   "display_name": "Python 3.9.13 ('dataweek2')",
   "language": "python",
   "name": "python3"
  },
  "language_info": {
   "codemirror_mode": {
    "name": "ipython",
    "version": 3
   },
   "file_extension": ".py",
   "mimetype": "text/x-python",
   "name": "python",
   "nbconvert_exporter": "python",
   "pygments_lexer": "ipython3",
   "version": "3.9.13"
  },
  "vscode": {
   "interpreter": {
    "hash": "4600a15e5b6b646e3db8b2d8ebb346444f23fb424fa93d368313be03df29f350"
   }
  }
 },
 "nbformat": 4,
 "nbformat_minor": 5
}

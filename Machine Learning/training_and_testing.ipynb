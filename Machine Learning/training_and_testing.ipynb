{
 "cells": [
  {
   "cell_type": "code",
   "execution_count": 98,
   "metadata": {},
   "outputs": [],
   "source": [
    "import numpy as np\n",
    "import pandas as pd"
   ]
  },
  {
   "cell_type": "markdown",
   "metadata": {},
   "source": [
    "## read training data"
   ]
  },
  {
   "cell_type": "code",
   "execution_count": 99,
   "metadata": {},
   "outputs": [
    {
     "name": "stdout",
     "output_type": "stream",
     "text": [
      "(489694, 2)\n"
     ]
    },
    {
     "data": {
      "text/html": [
       "<div>\n",
       "<style scoped>\n",
       "    .dataframe tbody tr th:only-of-type {\n",
       "        vertical-align: middle;\n",
       "    }\n",
       "\n",
       "    .dataframe tbody tr th {\n",
       "        vertical-align: top;\n",
       "    }\n",
       "\n",
       "    .dataframe thead th {\n",
       "        text-align: right;\n",
       "    }\n",
       "</style>\n",
       "<table border=\"1\" class=\"dataframe\">\n",
       "  <thead>\n",
       "    <tr style=\"text-align: right;\">\n",
       "      <th></th>\n",
       "      <th>text</th>\n",
       "      <th>label</th>\n",
       "    </tr>\n",
       "  </thead>\n",
       "  <tbody>\n",
       "    <tr>\n",
       "      <th>0</th>\n",
       "      <td>Record</td>\n",
       "      <td>O</td>\n",
       "    </tr>\n",
       "    <tr>\n",
       "      <th>1</th>\n",
       "      <td>date:</td>\n",
       "      <td>O</td>\n",
       "    </tr>\n",
       "    <tr>\n",
       "      <th>2</th>\n",
       "      <td>2067-05-03</td>\n",
       "      <td>O</td>\n",
       "    </tr>\n",
       "    <tr>\n",
       "      <th>3</th>\n",
       "      <td>Narrative</td>\n",
       "      <td>O</td>\n",
       "    </tr>\n",
       "    <tr>\n",
       "      <th>4</th>\n",
       "      <td>History</td>\n",
       "      <td>O</td>\n",
       "    </tr>\n",
       "  </tbody>\n",
       "</table>\n",
       "</div>"
      ],
      "text/plain": [
       "         text label\n",
       "0      Record     O\n",
       "1       date:     O\n",
       "2  2067-05-03     O\n",
       "3   Narrative     O\n",
       "4     History     O"
      ]
     },
     "execution_count": 99,
     "metadata": {},
     "output_type": "execute_result"
    }
   ],
   "source": [
    "#read txt file\n",
    "def read_txt(filename):\n",
    "    with open(filename, 'r') as f:\n",
    "        data = f.readlines()\n",
    "    return data\n",
    "\n",
    "\n",
    "traininglist1 = read_txt('E:/JHU/课程/datadesign/NLP/machine_learning/trainingdata_noPHI.txt')\n",
    "traininglist2 = read_txt('E:/JHU/课程/datadesign/NLP/machine_learning/trainingdata2_noPHI.txt')\n",
    "#traininglist = traininglist1 + traininglist2\n",
    "\n",
    "traininglist3 = read_txt('E:/JHU/课程/datadesign/NLP/machine_learning/train_withoutphi.txt')\n",
    "\n",
    "#pick one of the traininglist\n",
    "traininglist = traininglist3\n",
    "\n",
    "#print(list)\n",
    "for i in range(len(traininglist)):\n",
    "    traininglist[i] = traininglist[i].split()\n",
    "#print(list)\n",
    "trainingdataframe = pd.DataFrame(traininglist, columns=['text', 'label'])\n",
    "print(trainingdataframe.shape)\n",
    "trainingdataframe.head()"
   ]
  },
  {
   "cell_type": "code",
   "execution_count": 100,
   "metadata": {},
   "outputs": [
    {
     "data": {
      "text/plain": [
       "(53284, 17)"
      ]
     },
     "execution_count": 100,
     "metadata": {},
     "output_type": "execute_result"
    }
   ],
   "source": [
    "df_training = trainingdataframe.fillna(method='ffill')\n",
    "df_training.text.nunique(), df_training.label.nunique()"
   ]
  },
  {
   "cell_type": "code",
   "execution_count": 4,
   "metadata": {},
   "outputs": [],
   "source": [
    "#将df_training保存为txt文件\n",
    "df_training.to_csv('E:/JHU/课程/datadesign/NLP/machine_learning/trainingdatacombine_withoutphi.txt', index=False, header=False, sep='\\t')"
   ]
  },
  {
   "cell_type": "code",
   "execution_count": 101,
   "metadata": {},
   "outputs": [
    {
     "data": {
      "text/html": [
       "<div>\n",
       "<style scoped>\n",
       "    .dataframe tbody tr th:only-of-type {\n",
       "        vertical-align: middle;\n",
       "    }\n",
       "\n",
       "    .dataframe tbody tr th {\n",
       "        vertical-align: top;\n",
       "    }\n",
       "\n",
       "    .dataframe thead th {\n",
       "        text-align: right;\n",
       "    }\n",
       "</style>\n",
       "<table border=\"1\" class=\"dataframe\">\n",
       "  <thead>\n",
       "    <tr style=\"text-align: right;\">\n",
       "      <th></th>\n",
       "      <th>label</th>\n",
       "      <th>counts</th>\n",
       "    </tr>\n",
       "  </thead>\n",
       "  <tbody>\n",
       "    <tr>\n",
       "      <th>0</th>\n",
       "      <td>B-CAD</td>\n",
       "      <td>1233</td>\n",
       "    </tr>\n",
       "    <tr>\n",
       "      <th>1</th>\n",
       "      <td>B-DIABETES</td>\n",
       "      <td>1030</td>\n",
       "    </tr>\n",
       "    <tr>\n",
       "      <th>2</th>\n",
       "      <td>B-FAMILY_HIST</td>\n",
       "      <td>34</td>\n",
       "    </tr>\n",
       "    <tr>\n",
       "      <th>3</th>\n",
       "      <td>B-HYPERLIPIDEMIA</td>\n",
       "      <td>467</td>\n",
       "    </tr>\n",
       "    <tr>\n",
       "      <th>4</th>\n",
       "      <td>B-HYPERTENSION</td>\n",
       "      <td>1257</td>\n",
       "    </tr>\n",
       "    <tr>\n",
       "      <th>5</th>\n",
       "      <td>B-MEDICATION</td>\n",
       "      <td>4051</td>\n",
       "    </tr>\n",
       "    <tr>\n",
       "      <th>6</th>\n",
       "      <td>B-OBESE</td>\n",
       "      <td>227</td>\n",
       "    </tr>\n",
       "    <tr>\n",
       "      <th>7</th>\n",
       "      <td>B-SMOKER</td>\n",
       "      <td>815</td>\n",
       "    </tr>\n",
       "    <tr>\n",
       "      <th>8</th>\n",
       "      <td>I-CAD</td>\n",
       "      <td>4387</td>\n",
       "    </tr>\n",
       "    <tr>\n",
       "      <th>9</th>\n",
       "      <td>I-DIABETES</td>\n",
       "      <td>1254</td>\n",
       "    </tr>\n",
       "    <tr>\n",
       "      <th>10</th>\n",
       "      <td>I-FAMILY_HIST</td>\n",
       "      <td>220</td>\n",
       "    </tr>\n",
       "    <tr>\n",
       "      <th>11</th>\n",
       "      <td>I-HYPERLIPIDEMIA</td>\n",
       "      <td>123</td>\n",
       "    </tr>\n",
       "    <tr>\n",
       "      <th>12</th>\n",
       "      <td>I-HYPERTENSION</td>\n",
       "      <td>931</td>\n",
       "    </tr>\n",
       "    <tr>\n",
       "      <th>13</th>\n",
       "      <td>I-MEDICATION</td>\n",
       "      <td>2039</td>\n",
       "    </tr>\n",
       "    <tr>\n",
       "      <th>14</th>\n",
       "      <td>I-OBESE</td>\n",
       "      <td>65</td>\n",
       "    </tr>\n",
       "    <tr>\n",
       "      <th>15</th>\n",
       "      <td>I-SMOKER</td>\n",
       "      <td>1532</td>\n",
       "    </tr>\n",
       "    <tr>\n",
       "      <th>16</th>\n",
       "      <td>O</td>\n",
       "      <td>470029</td>\n",
       "    </tr>\n",
       "  </tbody>\n",
       "</table>\n",
       "</div>"
      ],
      "text/plain": [
       "               label  counts\n",
       "0              B-CAD    1233\n",
       "1         B-DIABETES    1030\n",
       "2      B-FAMILY_HIST      34\n",
       "3   B-HYPERLIPIDEMIA     467\n",
       "4     B-HYPERTENSION    1257\n",
       "5       B-MEDICATION    4051\n",
       "6            B-OBESE     227\n",
       "7           B-SMOKER     815\n",
       "8              I-CAD    4387\n",
       "9         I-DIABETES    1254\n",
       "10     I-FAMILY_HIST     220\n",
       "11  I-HYPERLIPIDEMIA     123\n",
       "12    I-HYPERTENSION     931\n",
       "13      I-MEDICATION    2039\n",
       "14           I-OBESE      65\n",
       "15          I-SMOKER    1532\n",
       "16                 O  470029"
      ]
     },
     "execution_count": 101,
     "metadata": {},
     "output_type": "execute_result"
    }
   ],
   "source": [
    "df_training.groupby('label').size().reset_index(name='counts')\n"
   ]
  },
  {
   "cell_type": "code",
   "execution_count": 102,
   "metadata": {},
   "outputs": [
    {
     "data": {
      "text/html": [
       "<div>\n",
       "<style scoped>\n",
       "    .dataframe tbody tr th:only-of-type {\n",
       "        vertical-align: middle;\n",
       "    }\n",
       "\n",
       "    .dataframe tbody tr th {\n",
       "        vertical-align: top;\n",
       "    }\n",
       "\n",
       "    .dataframe thead th {\n",
       "        text-align: right;\n",
       "    }\n",
       "</style>\n",
       "<table border=\"1\" class=\"dataframe\">\n",
       "  <thead>\n",
       "    <tr style=\"text-align: right;\">\n",
       "      <th></th>\n",
       "      <th>label</th>\n",
       "      <th>counts</th>\n",
       "    </tr>\n",
       "  </thead>\n",
       "  <tbody>\n",
       "    <tr>\n",
       "      <th>0</th>\n",
       "      <td>B-CAD</td>\n",
       "      <td>1233</td>\n",
       "    </tr>\n",
       "    <tr>\n",
       "      <th>1</th>\n",
       "      <td>B-DIABETES</td>\n",
       "      <td>1030</td>\n",
       "    </tr>\n",
       "    <tr>\n",
       "      <th>2</th>\n",
       "      <td>B-FAMILY_HIST</td>\n",
       "      <td>34</td>\n",
       "    </tr>\n",
       "    <tr>\n",
       "      <th>3</th>\n",
       "      <td>B-HYPERLIPIDEMIA</td>\n",
       "      <td>467</td>\n",
       "    </tr>\n",
       "    <tr>\n",
       "      <th>4</th>\n",
       "      <td>B-HYPERTENSION</td>\n",
       "      <td>1257</td>\n",
       "    </tr>\n",
       "    <tr>\n",
       "      <th>5</th>\n",
       "      <td>B-MEDICATION</td>\n",
       "      <td>4051</td>\n",
       "    </tr>\n",
       "    <tr>\n",
       "      <th>6</th>\n",
       "      <td>B-OBESE</td>\n",
       "      <td>227</td>\n",
       "    </tr>\n",
       "    <tr>\n",
       "      <th>7</th>\n",
       "      <td>B-SMOKER</td>\n",
       "      <td>815</td>\n",
       "    </tr>\n",
       "    <tr>\n",
       "      <th>8</th>\n",
       "      <td>I-CAD</td>\n",
       "      <td>4387</td>\n",
       "    </tr>\n",
       "    <tr>\n",
       "      <th>9</th>\n",
       "      <td>I-DIABETES</td>\n",
       "      <td>1254</td>\n",
       "    </tr>\n",
       "    <tr>\n",
       "      <th>10</th>\n",
       "      <td>I-FAMILY_HIST</td>\n",
       "      <td>220</td>\n",
       "    </tr>\n",
       "    <tr>\n",
       "      <th>11</th>\n",
       "      <td>I-HYPERLIPIDEMIA</td>\n",
       "      <td>123</td>\n",
       "    </tr>\n",
       "    <tr>\n",
       "      <th>12</th>\n",
       "      <td>I-HYPERTENSION</td>\n",
       "      <td>931</td>\n",
       "    </tr>\n",
       "    <tr>\n",
       "      <th>13</th>\n",
       "      <td>I-MEDICATION</td>\n",
       "      <td>2039</td>\n",
       "    </tr>\n",
       "    <tr>\n",
       "      <th>14</th>\n",
       "      <td>I-OBESE</td>\n",
       "      <td>65</td>\n",
       "    </tr>\n",
       "    <tr>\n",
       "      <th>15</th>\n",
       "      <td>I-SMOKER</td>\n",
       "      <td>1532</td>\n",
       "    </tr>\n",
       "  </tbody>\n",
       "</table>\n",
       "</div>"
      ],
      "text/plain": [
       "               label  counts\n",
       "0              B-CAD    1233\n",
       "1         B-DIABETES    1030\n",
       "2      B-FAMILY_HIST      34\n",
       "3   B-HYPERLIPIDEMIA     467\n",
       "4     B-HYPERTENSION    1257\n",
       "5       B-MEDICATION    4051\n",
       "6            B-OBESE     227\n",
       "7           B-SMOKER     815\n",
       "8              I-CAD    4387\n",
       "9         I-DIABETES    1254\n",
       "10     I-FAMILY_HIST     220\n",
       "11  I-HYPERLIPIDEMIA     123\n",
       "12    I-HYPERTENSION     931\n",
       "13      I-MEDICATION    2039\n",
       "14           I-OBESE      65\n",
       "15          I-SMOKER    1532"
      ]
     },
     "execution_count": 102,
     "metadata": {},
     "output_type": "execute_result"
    }
   ],
   "source": [
    "#delete the rows with label 'O'\n",
    "df_training_withouto = df_training[df_training.label != 'O']\n",
    "df_training_withouto.groupby('label').size().reset_index(name='counts')"
   ]
  },
  {
   "cell_type": "code",
   "execution_count": 7,
   "metadata": {},
   "outputs": [],
   "source": [
    "#将df_training_withouto保存为txt文件\n",
    "df_training_withouto.to_csv('E:/JHU/课程/datadesign/NLP/machine_learning/trainingdata_withouto.txt', index=False, header=False, sep='\\t')"
   ]
  },
  {
   "cell_type": "markdown",
   "metadata": {},
   "source": [
    "## read testing data"
   ]
  },
  {
   "cell_type": "code",
   "execution_count": 103,
   "metadata": {},
   "outputs": [
    {
     "name": "stdout",
     "output_type": "stream",
     "text": [
      "(316727, 2)\n"
     ]
    },
    {
     "data": {
      "text/html": [
       "<div>\n",
       "<style scoped>\n",
       "    .dataframe tbody tr th:only-of-type {\n",
       "        vertical-align: middle;\n",
       "    }\n",
       "\n",
       "    .dataframe tbody tr th {\n",
       "        vertical-align: top;\n",
       "    }\n",
       "\n",
       "    .dataframe thead th {\n",
       "        text-align: right;\n",
       "    }\n",
       "</style>\n",
       "<table border=\"1\" class=\"dataframe\">\n",
       "  <thead>\n",
       "    <tr style=\"text-align: right;\">\n",
       "      <th></th>\n",
       "      <th>text</th>\n",
       "      <th>label</th>\n",
       "    </tr>\n",
       "  </thead>\n",
       "  <tbody>\n",
       "    <tr>\n",
       "      <th>0</th>\n",
       "      <td>Record</td>\n",
       "      <td>B-SMOKER</td>\n",
       "    </tr>\n",
       "    <tr>\n",
       "      <th>1</th>\n",
       "      <td>date:</td>\n",
       "      <td>O</td>\n",
       "    </tr>\n",
       "    <tr>\n",
       "      <th>2</th>\n",
       "      <td>2069-04-07</td>\n",
       "      <td>O</td>\n",
       "    </tr>\n",
       "    <tr>\n",
       "      <th>3</th>\n",
       "      <td>Mr.</td>\n",
       "      <td>O</td>\n",
       "    </tr>\n",
       "    <tr>\n",
       "      <th>4</th>\n",
       "      <td>Villegas</td>\n",
       "      <td>O</td>\n",
       "    </tr>\n",
       "  </tbody>\n",
       "</table>\n",
       "</div>"
      ],
      "text/plain": [
       "         text     label\n",
       "0      Record  B-SMOKER\n",
       "1       date:         O\n",
       "2  2069-04-07         O\n",
       "3         Mr.         O\n",
       "4    Villegas         O"
      ]
     },
     "execution_count": 103,
     "metadata": {},
     "output_type": "execute_result"
    }
   ],
   "source": [
    "#read txt file\n",
    "testinglist = read_txt('E:/JHU/课程/datadesign/NLP/machine_learning/test_withoutphi.txt')\n",
    "#print(list)\n",
    "\n",
    "for i in range(len(testinglist)):\n",
    "    testinglist[i] = testinglist[i].split()\n",
    "#print(list)\n",
    "testingdataframe = pd.DataFrame(testinglist,columns=['text','label'])\n",
    "print(testingdataframe.shape)\n",
    "testingdataframe.head()"
   ]
  },
  {
   "cell_type": "code",
   "execution_count": 104,
   "metadata": {},
   "outputs": [
    {
     "data": {
      "text/plain": [
       "(40140, 17)"
      ]
     },
     "execution_count": 104,
     "metadata": {},
     "output_type": "execute_result"
    }
   ],
   "source": [
    "df_testing = testingdataframe.fillna(method='ffill')\n",
    "df_testing.text.nunique(), df_testing.label.nunique()"
   ]
  },
  {
   "cell_type": "code",
   "execution_count": 105,
   "metadata": {},
   "outputs": [
    {
     "data": {
      "text/html": [
       "<div>\n",
       "<style scoped>\n",
       "    .dataframe tbody tr th:only-of-type {\n",
       "        vertical-align: middle;\n",
       "    }\n",
       "\n",
       "    .dataframe tbody tr th {\n",
       "        vertical-align: top;\n",
       "    }\n",
       "\n",
       "    .dataframe thead th {\n",
       "        text-align: right;\n",
       "    }\n",
       "</style>\n",
       "<table border=\"1\" class=\"dataframe\">\n",
       "  <thead>\n",
       "    <tr style=\"text-align: right;\">\n",
       "      <th></th>\n",
       "      <th>label</th>\n",
       "      <th>counts</th>\n",
       "    </tr>\n",
       "  </thead>\n",
       "  <tbody>\n",
       "    <tr>\n",
       "      <th>0</th>\n",
       "      <td>B-CAD</td>\n",
       "      <td>730</td>\n",
       "    </tr>\n",
       "    <tr>\n",
       "      <th>1</th>\n",
       "      <td>B-DIABETES</td>\n",
       "      <td>738</td>\n",
       "    </tr>\n",
       "    <tr>\n",
       "      <th>2</th>\n",
       "      <td>B-FAMILY_HIST</td>\n",
       "      <td>24</td>\n",
       "    </tr>\n",
       "    <tr>\n",
       "      <th>3</th>\n",
       "      <td>B-HYPERLIPIDEMIA</td>\n",
       "      <td>335</td>\n",
       "    </tr>\n",
       "    <tr>\n",
       "      <th>4</th>\n",
       "      <td>B-HYPERTENSION</td>\n",
       "      <td>763</td>\n",
       "    </tr>\n",
       "    <tr>\n",
       "      <th>5</th>\n",
       "      <td>B-MEDICATION</td>\n",
       "      <td>2616</td>\n",
       "    </tr>\n",
       "    <tr>\n",
       "      <th>6</th>\n",
       "      <td>B-OBESE</td>\n",
       "      <td>129</td>\n",
       "    </tr>\n",
       "    <tr>\n",
       "      <th>7</th>\n",
       "      <td>B-SMOKER</td>\n",
       "      <td>562</td>\n",
       "    </tr>\n",
       "    <tr>\n",
       "      <th>8</th>\n",
       "      <td>I-CAD</td>\n",
       "      <td>3221</td>\n",
       "    </tr>\n",
       "    <tr>\n",
       "      <th>9</th>\n",
       "      <td>I-DIABETES</td>\n",
       "      <td>938</td>\n",
       "    </tr>\n",
       "    <tr>\n",
       "      <th>10</th>\n",
       "      <td>I-FAMILY_HIST</td>\n",
       "      <td>190</td>\n",
       "    </tr>\n",
       "    <tr>\n",
       "      <th>11</th>\n",
       "      <td>I-HYPERLIPIDEMIA</td>\n",
       "      <td>158</td>\n",
       "    </tr>\n",
       "    <tr>\n",
       "      <th>12</th>\n",
       "      <td>I-HYPERTENSION</td>\n",
       "      <td>500</td>\n",
       "    </tr>\n",
       "    <tr>\n",
       "      <th>13</th>\n",
       "      <td>I-MEDICATION</td>\n",
       "      <td>1532</td>\n",
       "    </tr>\n",
       "    <tr>\n",
       "      <th>14</th>\n",
       "      <td>I-OBESE</td>\n",
       "      <td>39</td>\n",
       "    </tr>\n",
       "    <tr>\n",
       "      <th>15</th>\n",
       "      <td>I-SMOKER</td>\n",
       "      <td>1095</td>\n",
       "    </tr>\n",
       "    <tr>\n",
       "      <th>16</th>\n",
       "      <td>O</td>\n",
       "      <td>303157</td>\n",
       "    </tr>\n",
       "  </tbody>\n",
       "</table>\n",
       "</div>"
      ],
      "text/plain": [
       "               label  counts\n",
       "0              B-CAD     730\n",
       "1         B-DIABETES     738\n",
       "2      B-FAMILY_HIST      24\n",
       "3   B-HYPERLIPIDEMIA     335\n",
       "4     B-HYPERTENSION     763\n",
       "5       B-MEDICATION    2616\n",
       "6            B-OBESE     129\n",
       "7           B-SMOKER     562\n",
       "8              I-CAD    3221\n",
       "9         I-DIABETES     938\n",
       "10     I-FAMILY_HIST     190\n",
       "11  I-HYPERLIPIDEMIA     158\n",
       "12    I-HYPERTENSION     500\n",
       "13      I-MEDICATION    1532\n",
       "14           I-OBESE      39\n",
       "15          I-SMOKER    1095\n",
       "16                 O  303157"
      ]
     },
     "execution_count": 105,
     "metadata": {},
     "output_type": "execute_result"
    }
   ],
   "source": [
    "df_testing.groupby('label').size().reset_index(name='counts')"
   ]
  },
  {
   "cell_type": "code",
   "execution_count": 106,
   "metadata": {},
   "outputs": [],
   "source": [
    "from sklearn.feature_extraction import DictVectorizer\n",
    "from sklearn.linear_model import Perceptron\n",
    "from sklearn.model_selection import train_test_split\n",
    "from sklearn.linear_model import SGDClassifier\n",
    "from sklearn.naive_bayes import MultinomialNB\n",
    "from sklearn.ensemble import RandomForestClassifier\n",
    "from sklearn.metrics import classification_report\n",
    "from sklearn.metrics import classification_report, precision_score, recall_score, f1_score"
   ]
  },
  {
   "attachments": {},
   "cell_type": "markdown",
   "metadata": {},
   "source": [
    "# Training with o class"
   ]
  },
  {
   "cell_type": "markdown",
   "metadata": {},
   "source": [
    "### Vectorize the text samples into a 2D integer tensor and split the trainingdata into a training set and a validation set for primary results"
   ]
  },
  {
   "cell_type": "code",
   "execution_count": 139,
   "metadata": {},
   "outputs": [
    {
     "data": {
      "text/plain": [
       "((440724, 53284), (440724,), (48970, 53284), (48970,))"
      ]
     },
     "execution_count": 139,
     "metadata": {},
     "output_type": "execute_result"
    }
   ],
   "source": [
    "trainingtext_with_o = df_training.drop('label',axis=1)\n",
    "traininglabel_with_o = df_training.label.values\n",
    "#print (trainingtext_with_o)\n",
    "#print(traininglabel_with_o)\n",
    "\n",
    "v = DictVectorizer(sparse=True)\n",
    "trainingtext_with_o = v.fit_transform(trainingtext_with_o.to_dict('records'))\n",
    "#print(trainingtext_with_o)\n",
    "\n",
    "classes = np.unique(traininglabel_with_o)\n",
    "classes = classes.tolist()\n",
    "#print(classes)\n",
    "\n",
    "x_train, x_test, y_train, y_test = train_test_split(trainingtext_with_o, traininglabel_with_o, test_size = 0.1, random_state=0)\n",
    "\n",
    "\n",
    "x_train.shape, y_train.shape,x_test.shape, y_test.shape\n"
   ]
  },
  {
   "cell_type": "markdown",
   "metadata": {},
   "source": [
    "### Vectorize the text samples into a 2D integer tensor and use different datasets as training set and test set"
   ]
  },
  {
   "cell_type": "code",
   "execution_count": 107,
   "metadata": {},
   "outputs": [
    {
     "data": {
      "text/plain": [
       "((489694, 53284), (489694,), (316727, 53284), (316727,))"
      ]
     },
     "execution_count": 107,
     "metadata": {},
     "output_type": "execute_result"
    }
   ],
   "source": [
    "#use df_training as training set and df_testing as test set\n",
    "trainingtext_with_o = df_training.drop('label',axis=1)\n",
    "traininglabel_with_o = df_training.label.values\n",
    "#print (trainingtext_with_o)\n",
    "#print(traininglabel_with_o)\n",
    "\n",
    "v = DictVectorizer(sparse=True)\n",
    "x_train = v.fit_transform(trainingtext_with_o.to_dict('records'))\n",
    "#print(trainingtext_with_o)\n",
    "y_train = traininglabel_with_o\n",
    "\n",
    "classes = np.unique(traininglabel_with_o)\n",
    "classes = classes.tolist()\n",
    "#print(classes)\n",
    "\n",
    "testingtext_with_o = df_testing.drop('label',axis=1)\n",
    "#print(testingtext_with_o)\n",
    "x_test = v.transform(testingtext_with_o.to_dict('records'))\n",
    "#print(x_test)\n",
    "y_test = df_testing.label.values\n",
    "#print(y_test)\n",
    "\n",
    "x_train.shape, y_train.shape,x_test.shape, y_test.shape\n"
   ]
  },
  {
   "cell_type": "code",
   "execution_count": 140,
   "metadata": {},
   "outputs": [
    {
     "data": {
      "text/plain": [
       "['B-CAD',\n",
       " 'B-DIABETES',\n",
       " 'B-FAMILY_HIST',\n",
       " 'B-HYPERLIPIDEMIA',\n",
       " 'B-HYPERTENSION',\n",
       " 'B-MEDICATION',\n",
       " 'B-OBESE',\n",
       " 'B-SMOKER',\n",
       " 'I-CAD',\n",
       " 'I-DIABETES',\n",
       " 'I-FAMILY_HIST',\n",
       " 'I-HYPERLIPIDEMIA',\n",
       " 'I-HYPERTENSION',\n",
       " 'I-MEDICATION',\n",
       " 'I-OBESE',\n",
       " 'I-SMOKER']"
      ]
     },
     "execution_count": 140,
     "metadata": {},
     "output_type": "execute_result"
    }
   ],
   "source": [
    "new_classes = classes.copy()\n",
    "new_classes.pop()\n",
    "new_classes"
   ]
  },
  {
   "cell_type": "markdown",
   "metadata": {},
   "source": [
    "### Perceptron"
   ]
  },
  {
   "cell_type": "code",
   "execution_count": 142,
   "metadata": {},
   "outputs": [
    {
     "name": "stderr",
     "output_type": "stream",
     "text": [
      "[Parallel(n_jobs=-1)]: Using backend ThreadingBackend with 16 concurrent workers.\n"
     ]
    },
    {
     "name": "stdout",
     "output_type": "stream",
     "text": [
      "-- Epoch 1\n",
      "-- Epoch 1\n",
      "-- Epoch 1\n",
      "-- Epoch 1\n",
      "-- Epoch 1\n",
      "-- Epoch 1\n",
      "-- Epoch 1\n",
      "-- Epoch 1\n",
      "-- Epoch 1\n",
      "-- Epoch 1\n",
      "-- Epoch 1\n",
      "-- Epoch 1\n",
      "-- Epoch 1\n",
      "-- Epoch 1\n",
      "-- Epoch 1\n",
      "Norm: 21.84, NNZs: 477, Bias: -0.050000, T: 440724, Avg. loss: 0.001224Norm: 15.46, NNZs: 239, Bias: -0.090000, T: 440724, Avg. loss: 0.001789\n",
      "Total training time: 0.20 seconds.\n",
      "-- Epoch 1\n",
      "\n",
      "Total training time: 0.12 seconds.\n",
      "Norm: 31.76, NNZs: 1009, Bias: -0.050000, T: 440724, Avg. loss: 0.002346\n",
      "Total training time: 0.15 seconds.\n",
      "Norm: 10.72, NNZs: 115, Bias: -0.030000, T: 440724, Avg. loss: 0.001195\n",
      "Total training time: 0.14 seconds.\n",
      "Norm: 15.62, NNZs: 244, Bias: -0.120000, T: 440724, Avg. loss: 0.002272\n",
      "Total training time: 0.12 seconds.\n",
      "Norm: 7.55, NNZs: 57, Bias: -0.030000, T: 440724, Avg. loss: 0.000166\n",
      "Total training time: 0.14 seconds.\n",
      "Norm: 3.16, NNZs: 10, Bias: -0.020000, T: 440724, Avg. loss: 0.000064\n",
      "Total training time: 0.16 seconds.\n",
      "Norm: 7.28, NNZs: 53, Bias: -0.070000, T: 440724, Avg. loss: 0.000167\n",
      "Total training time: 0.14 seconds.\n",
      "Norm: 4.90, NNZs: 24, Bias: -0.020000, T: 440724, Avg. loss: 0.000103\n",
      "Total training time: 0.14 seconds.\n",
      "Norm: 19.70, NNZs: 388, Bias: -0.040000, T: 440724, Avg. loss: 0.001702\n",
      "Total training time: 0.16 seconds.\n",
      "Norm: 5.92, NNZs: 35, Bias: -0.070000, T: 440724, Avg. loss: 0.000376\n",
      "Total training time: 0.14 seconds.\n",
      "Norm: 19.36, NNZs: 375, Bias: -0.090000, T: 440724, Avg. loss: 0.003322\n",
      "Total training time: 0.16 seconds.\n",
      "Norm: 27.37, NNZs: 749, Bias: -0.010000, T: 440724, Avg. loss: 0.006922\n",
      "Total training time: 0.13 seconds.\n",
      "-- Epoch 1\n",
      "Norm: 14.21, NNZs: 202, Bias: -0.020000, T: 440724, Avg. loss: 0.001105\n",
      "Total training time: 0.12 seconds.\n",
      "Norm: 9.90, NNZs: 98, Bias: -0.020000, T: 440724, Avg. loss: 0.000349\n",
      "Total training time: 0.10 seconds.\n",
      "Norm: 19.60, NNZs: 384, Bias: -0.020000, T: 440724, Avg. loss: 0.001148\n",
      "Total training time: 0.14 seconds.\n",
      "Norm: 65.95, NNZs: 4349, Bias: 0.050000, T: 440724, Avg. loss: 0.022418\n",
      "Total training time: 0.10 seconds.\n"
     ]
    },
    {
     "name": "stderr",
     "output_type": "stream",
     "text": [
      "[Parallel(n_jobs=-1)]: Done   1 tasks      | elapsed:    0.2s\n",
      "[Parallel(n_jobs=-1)]: Done   2 out of  17 | elapsed:    0.2s remaining:    2.2s\n",
      "[Parallel(n_jobs=-1)]: Done   4 out of  17 | elapsed:    0.2s remaining:    0.9s\n",
      "[Parallel(n_jobs=-1)]: Done   6 out of  17 | elapsed:    0.2s remaining:    0.5s\n",
      "[Parallel(n_jobs=-1)]: Done   8 out of  17 | elapsed:    0.2s remaining:    0.3s\n",
      "[Parallel(n_jobs=-1)]: Done  10 out of  17 | elapsed:    0.2s remaining:    0.1s\n",
      "[Parallel(n_jobs=-1)]: Done  12 out of  17 | elapsed:    0.2s remaining:    0.0s\n",
      "[Parallel(n_jobs=-1)]: Done  14 out of  17 | elapsed:    0.2s remaining:    0.0s\n",
      "[Parallel(n_jobs=-1)]: Done  17 out of  17 | elapsed:    0.3s finished\n",
      "c:\\ProgramData\\Anaconda3\\lib\\site-packages\\sklearn\\metrics\\_classification.py:1318: UndefinedMetricWarning: Precision and F-score are ill-defined and being set to 0.0 in labels with no predicted samples. Use `zero_division` parameter to control this behavior.\n",
      "  _warn_prf(average, modifier, msg_start, len(result))\n"
     ]
    },
    {
     "name": "stdout",
     "output_type": "stream",
     "text": [
      "                  precision    recall  f1-score   support\n",
      "\n",
      "           B-CAD       0.21      0.17      0.19       134\n",
      "      B-DIABETES       0.34      0.62      0.44        99\n",
      "   B-FAMILY_HIST       0.05      0.50      0.09         2\n",
      "B-HYPERLIPIDEMIA       0.64      0.61      0.62        41\n",
      "  B-HYPERTENSION       0.56      0.40      0.47       122\n",
      "    B-MEDICATION       0.69      0.62      0.66       423\n",
      "         B-OBESE       0.50      0.43      0.46        21\n",
      "        B-SMOKER       0.33      0.43      0.37        83\n",
      "           I-CAD       0.11      0.28      0.16       454\n",
      "      I-DIABETES       0.31      0.19      0.24       109\n",
      "   I-FAMILY_HIST       0.50      0.07      0.12        30\n",
      "I-HYPERLIPIDEMIA       0.20      0.22      0.21         9\n",
      "  I-HYPERTENSION       0.24      0.21      0.22        96\n",
      "    I-MEDICATION       0.16      0.11      0.13       168\n",
      "         I-OBESE       0.00      0.00      0.00         7\n",
      "        I-SMOKER       0.55      0.25      0.34       142\n",
      "               O       0.98      0.97      0.97     47030\n",
      "\n",
      "        accuracy                           0.94     48970\n",
      "       macro avg       0.38      0.36      0.34     48970\n",
      "    weighted avg       0.95      0.94      0.95     48970\n",
      "\n"
     ]
    },
    {
     "name": "stderr",
     "output_type": "stream",
     "text": [
      "c:\\ProgramData\\Anaconda3\\lib\\site-packages\\sklearn\\metrics\\_classification.py:1318: UndefinedMetricWarning: Precision and F-score are ill-defined and being set to 0.0 in labels with no predicted samples. Use `zero_division` parameter to control this behavior.\n",
      "  _warn_prf(average, modifier, msg_start, len(result))\n",
      "c:\\ProgramData\\Anaconda3\\lib\\site-packages\\sklearn\\metrics\\_classification.py:1318: UndefinedMetricWarning: Precision and F-score are ill-defined and being set to 0.0 in labels with no predicted samples. Use `zero_division` parameter to control this behavior.\n",
      "  _warn_prf(average, modifier, msg_start, len(result))\n"
     ]
    }
   ],
   "source": [
    "per = Perceptron(verbose=10, n_jobs=-1, max_iter=5) #this is the perceptron model\n",
    "per.partial_fit(x_train, y_train,classes=classes)\n",
    "print (classification_report(y_pred=per.predict(x_test), y_true=y_test, labels=classes))"
   ]
  },
  {
   "attachments": {},
   "cell_type": "markdown",
   "metadata": {},
   "source": [
    "### Support Vector Machine"
   ]
  },
  {
   "cell_type": "code",
   "execution_count": 125,
   "metadata": {},
   "outputs": [
    {
     "name": "stderr",
     "output_type": "stream",
     "text": [
      "c:\\ProgramData\\Anaconda3\\lib\\site-packages\\sklearn\\metrics\\_classification.py:1318: UndefinedMetricWarning: Precision and F-score are ill-defined and being set to 0.0 in labels with no predicted samples. Use `zero_division` parameter to control this behavior.\n",
      "  _warn_prf(average, modifier, msg_start, len(result))\n",
      "c:\\ProgramData\\Anaconda3\\lib\\site-packages\\sklearn\\metrics\\_classification.py:1318: UndefinedMetricWarning: Precision and F-score are ill-defined and being set to 0.0 in labels with no predicted samples. Use `zero_division` parameter to control this behavior.\n",
      "  _warn_prf(average, modifier, msg_start, len(result))\n"
     ]
    },
    {
     "name": "stdout",
     "output_type": "stream",
     "text": [
      "                  precision    recall  f1-score   support\n",
      "\n",
      "           B-CAD       0.52      0.10      0.16       730\n",
      "      B-DIABETES       0.61      0.26      0.36       738\n",
      "   B-FAMILY_HIST       0.00      0.00      0.00        24\n",
      "B-HYPERLIPIDEMIA       0.74      0.41      0.53       335\n",
      "  B-HYPERTENSION       0.67      0.36      0.46       763\n",
      "    B-MEDICATION       0.76      0.57      0.65      2616\n",
      "         B-OBESE       0.68      0.34      0.45       129\n",
      "        B-SMOKER       0.76      0.09      0.16       562\n",
      "           I-CAD       0.41      0.00      0.00      3221\n",
      "      I-DIABETES       0.77      0.13      0.22       938\n",
      "   I-FAMILY_HIST       0.00      0.00      0.00       190\n",
      "I-HYPERLIPIDEMIA       0.67      0.05      0.09       158\n",
      "  I-HYPERTENSION       0.00      0.00      0.00       500\n",
      "    I-MEDICATION       0.68      0.04      0.07      1532\n",
      "         I-OBESE       0.00      0.00      0.00        39\n",
      "        I-SMOKER       0.70      0.21      0.32      1095\n",
      "\n",
      "       micro avg       0.72      0.20      0.31     13570\n",
      "       macro avg       0.50      0.16      0.22     13570\n",
      "    weighted avg       0.59      0.20      0.26     13570\n",
      "\n"
     ]
    },
    {
     "name": "stderr",
     "output_type": "stream",
     "text": [
      "c:\\ProgramData\\Anaconda3\\lib\\site-packages\\sklearn\\metrics\\_classification.py:1318: UndefinedMetricWarning: Precision and F-score are ill-defined and being set to 0.0 in labels with no predicted samples. Use `zero_division` parameter to control this behavior.\n",
      "  _warn_prf(average, modifier, msg_start, len(result))\n"
     ]
    }
   ],
   "source": [
    "#support vector machine\n",
    "svm = SGDClassifier(alpha=.00001, max_iter=100,penalty=\"elasticnet\")\n",
    "svm.partial_fit(x_train, y_train,classes=classes)\n",
    "\n",
    "print (classification_report(y_pred=svm.predict(x_test), y_true=y_test, labels=new_classes))"
   ]
  },
  {
   "attachments": {},
   "cell_type": "markdown",
   "metadata": {},
   "source": [
    "### Naive Bayes"
   ]
  },
  {
   "cell_type": "code",
   "execution_count": 126,
   "metadata": {},
   "outputs": [
    {
     "name": "stderr",
     "output_type": "stream",
     "text": [
      "c:\\ProgramData\\Anaconda3\\lib\\site-packages\\sklearn\\metrics\\_classification.py:1318: UndefinedMetricWarning: Precision and F-score are ill-defined and being set to 0.0 in labels with no predicted samples. Use `zero_division` parameter to control this behavior.\n",
      "  _warn_prf(average, modifier, msg_start, len(result))\n",
      "c:\\ProgramData\\Anaconda3\\lib\\site-packages\\sklearn\\metrics\\_classification.py:1318: UndefinedMetricWarning: Precision and F-score are ill-defined and being set to 0.0 in labels with no predicted samples. Use `zero_division` parameter to control this behavior.\n",
      "  _warn_prf(average, modifier, msg_start, len(result))\n"
     ]
    },
    {
     "name": "stdout",
     "output_type": "stream",
     "text": [
      "                  precision    recall  f1-score   support\n",
      "\n",
      "           B-CAD       0.46      0.12      0.19       730\n",
      "      B-DIABETES       0.60      0.32      0.42       738\n",
      "   B-FAMILY_HIST       0.00      0.00      0.00        24\n",
      "B-HYPERLIPIDEMIA       0.74      0.59      0.65       335\n",
      "  B-HYPERTENSION       0.63      0.48      0.55       763\n",
      "    B-MEDICATION       0.73      0.75      0.74      2616\n",
      "         B-OBESE       0.66      0.67      0.67       129\n",
      "        B-SMOKER       0.73      0.14      0.23       562\n",
      "           I-CAD       0.37      0.03      0.06      3221\n",
      "      I-DIABETES       0.61      0.16      0.25       938\n",
      "   I-FAMILY_HIST       0.08      0.01      0.01       190\n",
      "I-HYPERLIPIDEMIA       0.48      0.06      0.11       158\n",
      "  I-HYPERTENSION       0.46      0.04      0.07       500\n",
      "    I-MEDICATION       0.55      0.06      0.11      1532\n",
      "         I-OBESE       0.00      0.00      0.00        39\n",
      "        I-SMOKER       0.66      0.25      0.36      1095\n",
      "\n",
      "       micro avg       0.66      0.27      0.38     13570\n",
      "       macro avg       0.48      0.23      0.28     13570\n",
      "    weighted avg       0.56      0.27      0.32     13570\n",
      "\n"
     ]
    },
    {
     "name": "stderr",
     "output_type": "stream",
     "text": [
      "c:\\ProgramData\\Anaconda3\\lib\\site-packages\\sklearn\\metrics\\_classification.py:1318: UndefinedMetricWarning: Precision and F-score are ill-defined and being set to 0.0 in labels with no predicted samples. Use `zero_division` parameter to control this behavior.\n",
      "  _warn_prf(average, modifier, msg_start, len(result))\n"
     ]
    }
   ],
   "source": [
    "#naive bayes\n",
    "nb = MultinomialNB(alpha=.0005)\n",
    "nb.partial_fit(x_train, y_train,classes=classes)\n",
    "\n",
    "print (classification_report(y_pred=nb.predict(x_test), y_true=y_test, labels=new_classes))"
   ]
  },
  {
   "cell_type": "code",
   "execution_count": null,
   "metadata": {},
   "outputs": [],
   "source": [
    "#random forest\n",
    "rf = RandomForestClassifier(n_estimators=100, max_depth=20,random_state=553)\n",
    "rf.fit(x_train, y_train)\n",
    "\n",
    "print (classification_report(y_pred=rf.predict(x_test), y_true=y_test, labels=classes))"
   ]
  },
  {
   "cell_type": "code",
   "execution_count": 113,
   "metadata": {},
   "outputs": [
    {
     "name": "stderr",
     "output_type": "stream",
     "text": [
      "c:\\ProgramData\\Anaconda3\\lib\\site-packages\\sklearn\\linear_model\\_logistic.py:814: ConvergenceWarning: lbfgs failed to converge (status=1):\n",
      "STOP: TOTAL NO. of ITERATIONS REACHED LIMIT.\n",
      "\n",
      "Increase the number of iterations (max_iter) or scale the data as shown in:\n",
      "    https://scikit-learn.org/stable/modules/preprocessing.html\n",
      "Please also refer to the documentation for alternative solver options:\n",
      "    https://scikit-learn.org/stable/modules/linear_model.html#logistic-regression\n",
      "  n_iter_i = _check_optimize_result(\n",
      "c:\\ProgramData\\Anaconda3\\lib\\site-packages\\sklearn\\metrics\\_classification.py:1318: UndefinedMetricWarning: Precision and F-score are ill-defined and being set to 0.0 in labels with no predicted samples. Use `zero_division` parameter to control this behavior.\n",
      "  _warn_prf(average, modifier, msg_start, len(result))\n",
      "c:\\ProgramData\\Anaconda3\\lib\\site-packages\\sklearn\\metrics\\_classification.py:1318: UndefinedMetricWarning: Precision and F-score are ill-defined and being set to 0.0 in labels with no predicted samples. Use `zero_division` parameter to control this behavior.\n",
      "  _warn_prf(average, modifier, msg_start, len(result))\n"
     ]
    },
    {
     "name": "stdout",
     "output_type": "stream",
     "text": [
      "                  precision    recall  f1-score   support\n",
      "\n",
      "           B-CAD       0.52      0.10      0.16       730\n",
      "      B-DIABETES       0.61      0.26      0.36       738\n",
      "   B-FAMILY_HIST       0.00      0.00      0.00        24\n",
      "B-HYPERLIPIDEMIA       0.74      0.41      0.53       335\n",
      "  B-HYPERTENSION       0.64      0.43      0.52       763\n",
      "    B-MEDICATION       0.75      0.61      0.68      2616\n",
      "         B-OBESE       0.70      0.30      0.42       129\n",
      "        B-SMOKER       0.73      0.12      0.21       562\n",
      "           I-CAD       0.50      0.02      0.03      3221\n",
      "      I-DIABETES       0.72      0.13      0.22       938\n",
      "   I-FAMILY_HIST       0.00      0.00      0.00       190\n",
      "I-HYPERLIPIDEMIA       0.67      0.05      0.09       158\n",
      "  I-HYPERTENSION       0.00      0.00      0.00       500\n",
      "    I-MEDICATION       0.68      0.04      0.08      1532\n",
      "         I-OBESE       0.00      0.00      0.00        39\n",
      "        I-SMOKER       0.71      0.22      0.33      1095\n",
      "\n",
      "       micro avg       0.70      0.22      0.33     13570\n",
      "       macro avg       0.50      0.17      0.23     13570\n",
      "    weighted avg       0.61      0.22      0.27     13570\n",
      "\n"
     ]
    },
    {
     "name": "stderr",
     "output_type": "stream",
     "text": [
      "c:\\ProgramData\\Anaconda3\\lib\\site-packages\\sklearn\\metrics\\_classification.py:1318: UndefinedMetricWarning: Precision and F-score are ill-defined and being set to 0.0 in labels with no predicted samples. Use `zero_division` parameter to control this behavior.\n",
      "  _warn_prf(average, modifier, msg_start, len(result))\n"
     ]
    }
   ],
   "source": [
    "#logistic regression\n",
    "from sklearn.linear_model import LogisticRegression\n",
    "lr = LogisticRegression()\n",
    "lr.fit(x_train, y_train)\n",
    "\n",
    "print (classification_report(y_pred=lr.predict(x_test), y_true=y_test, labels=new_classes))"
   ]
  },
  {
   "attachments": {},
   "cell_type": "markdown",
   "metadata": {},
   "source": [
    "# Training without o"
   ]
  },
  {
   "cell_type": "markdown",
   "metadata": {},
   "source": [
    "### Vectorize the text samples into a 2D integer tensor and split the trainingdata into a training set and a validation set for primary results"
   ]
  },
  {
   "cell_type": "code",
   "execution_count": null,
   "metadata": {},
   "outputs": [],
   "source": [
    "trainingtext_without_o = df_training_withouto.drop('label',axis=1)\n",
    "#print (trainingtext_without_o)\n",
    "\n",
    "v = DictVectorizer(sparse=True)\n",
    "trainingtext_without_o = v.fit_transform(trainingtext_without_o.to_dict('records'))\n",
    "#print(trainingtext_without_o)\n",
    "traininglabel_without_o = df_training_withouto.label.values\n",
    "\n",
    "classes_without_o = np.unique(traininglabel_without_o)\n",
    "classes_without_o = classes_without_o.tolist()\n",
    "\n",
    "x_without_o_train, x_without_o_test, y_without_o_train, y_without_o_test = train_test_split(trainingtext_without_o, traininglabel_without_o, test_size = 0.1, random_state=0)\n",
    "x_without_o_train.shape, y_without_o_train.shape,x_without_o_test.shape, y_without_o_test.shape\n"
   ]
  },
  {
   "cell_type": "markdown",
   "metadata": {},
   "source": [
    "### Vectorize the text samples into a 2D integer tensor and use different datasets as training set and test set"
   ]
  },
  {
   "cell_type": "code",
   "execution_count": 127,
   "metadata": {},
   "outputs": [
    {
     "data": {
      "text/plain": [
       "((19665, 4261), (19665,), (316727, 4261), (316727,))"
      ]
     },
     "execution_count": 127,
     "metadata": {},
     "output_type": "execute_result"
    }
   ],
   "source": [
    "\n",
    "trainingtext_without_o = df_training_withouto.drop('label',axis=1)\n",
    "traininglabel_without_o = df_training_withouto.label.values\n",
    "\n",
    "v = DictVectorizer(sparse=True)\n",
    "x_without_o_train = v.fit_transform(trainingtext_without_o.to_dict('records'))\n",
    "\n",
    "y_without_o_train = traininglabel_without_o\n",
    "\n",
    "classes_without_o = np.unique(traininglabel_without_o)\n",
    "classes_without_o = classes_without_o.tolist()\n",
    "\n",
    "\n",
    "testingtext_without_o = df_testing.drop('label',axis=1)\n",
    "\n",
    "x_without_o_test = v.transform(testingtext_without_o.to_dict('records'))\n",
    "\n",
    "y_without_o_test = df_testing.label.values\n",
    "\n",
    "\n",
    "x_without_o_train.shape, y_without_o_train.shape,x_without_o_test.shape, y_without_o_test.shape\n"
   ]
  },
  {
   "cell_type": "code",
   "execution_count": 128,
   "metadata": {},
   "outputs": [
    {
     "name": "stderr",
     "output_type": "stream",
     "text": [
      "[Parallel(n_jobs=-1)]: Using backend ThreadingBackend with 16 concurrent workers.\n",
      "[Parallel(n_jobs=-1)]: Done   3 out of  16 | elapsed:    0.0s remaining:    0.0s\n",
      "[Parallel(n_jobs=-1)]: Done   5 out of  16 | elapsed:    0.0s remaining:    0.0s\n",
      "[Parallel(n_jobs=-1)]: Done   7 out of  16 | elapsed:    0.0s remaining:    0.0s\n",
      "[Parallel(n_jobs=-1)]: Done   9 out of  16 | elapsed:    0.0s remaining:    0.0s\n",
      "[Parallel(n_jobs=-1)]: Done  11 out of  16 | elapsed:    0.0s remaining:    0.0s\n",
      "[Parallel(n_jobs=-1)]: Done  13 out of  16 | elapsed:    0.0s remaining:    0.0s\n",
      "[Parallel(n_jobs=-1)]: Done  16 out of  16 | elapsed:    0.0s finished\n"
     ]
    },
    {
     "name": "stdout",
     "output_type": "stream",
     "text": [
      "-- Epoch 1\n",
      "-- Epoch 1\n",
      "-- Epoch 1\n",
      "-- Epoch 1\n",
      "Norm: 12.37, NNZs: 153, Bias: -0.010000, T: 19665, Avg. loss: 0.002196\n",
      "Total training time: 0.01 seconds.\n",
      "-- Epoch 1\n",
      "Norm: 4.69, NNZs: 22, Bias: -0.020000, T: 19665, Avg. loss: 0.000724\n",
      "Total training time: 0.01 seconds.\n",
      "-- Epoch 1\n",
      "Norm: 23.26, NNZs: 541, Bias: -0.010000, T: 19665, Avg. loss: 0.019346\n",
      "Total training time: 0.00 seconds.\n",
      "-- Epoch 1\n",
      "Norm: 18.03, NNZs: 325, Bias: -0.030000, T: 19665, Avg. loss: 0.008914\n",
      "Total training time: 0.00 seconds.\n",
      "Norm: 8.89, NNZs: 79, Bias: -0.010000, T: 19665, Avg. loss: 0.000893\n",
      "Total training time: 0.01 seconds.\n",
      "-- Epoch 1\n",
      "-- Epoch 1\n",
      "-- Epoch 1\n",
      "Norm: 36.08, NNZs: 1302, Bias: -0.020000, T: 19665, Avg. loss: 0.013889\n",
      "Total training time: 0.00 seconds.\n",
      "-- Epoch 1\n",
      "-- Epoch 1\n",
      "-- Epoch 1\n",
      "-- Epoch 1\n",
      "Norm: 9.70, NNZs: 94, Bias: -0.020000, T: 19665, Avg. loss: 0.006546\n",
      "Total training time: 0.00 seconds.\n",
      "Norm: 42.60, NNZs: 1815, Bias: -0.010000, T: 19665, Avg. loss: 0.047405\n",
      "Total training time: 0.00 seconds.\n",
      "-- Epoch 1\n",
      "Norm: 24.27, NNZs: 589, Bias: -0.070000, T: 19665, Avg. loss: 0.025201\n",
      "Total training time: 0.00 seconds.\n",
      "Norm: 27.04, NNZs: 731, Bias: -0.010000, T: 19665, Avg. loss: 0.020113\n",
      "Total training time: 0.00 seconds.\n",
      "-- Epoch 1\n",
      "Norm: 16.22, NNZs: 263, Bias: -0.010000, T: 19665, Avg. loss: 0.008490\n",
      "Total training time: 0.00 seconds.\n",
      "Norm: 22.41, NNZs: 502, Bias: -0.020000, T: 19665, Avg. loss: 0.005828\n",
      "Total training time: 0.00 seconds.\n",
      "Norm: 7.81, NNZs: 61, Bias: -0.010000, T: 19665, Avg. loss: 0.001094\n",
      "Total training time: 0.00 seconds.\n",
      "Norm: 26.04, NNZs: 678, Bias: -0.020000, T: 19665, Avg. loss: 0.015271\n",
      "Total training time: 0.00 seconds.\n",
      "Norm: 10.82, NNZs: 117, Bias: -0.030000, T: 19665, Avg. loss: 0.001928\n",
      "Total training time: 0.00 seconds.\n",
      "Norm: 30.35, NNZs: 921, Bias: -0.050000, T: 19665, Avg. loss: 0.025754\n",
      "Total training time: 0.00 seconds.\n",
      "                  precision    recall  f1-score   support\n",
      "\n",
      "           B-CAD       0.00      0.82      0.01       730\n",
      "      B-DIABETES       0.12      0.53      0.19       738\n",
      "   B-FAMILY_HIST       0.03      0.21      0.06        24\n",
      "B-HYPERLIPIDEMIA       0.01      0.81      0.03       335\n",
      "  B-HYPERTENSION       0.23      0.79      0.36       763\n",
      "    B-MEDICATION       0.48      0.82      0.60      2616\n",
      "         B-OBESE       0.03      0.86      0.05       129\n",
      "        B-SMOKER       0.03      0.72      0.06       562\n",
      "           I-CAD       0.04      0.48      0.07      3221\n",
      "      I-DIABETES       0.04      0.46      0.07       938\n",
      "   I-FAMILY_HIST       0.01      0.18      0.02       190\n",
      "I-HYPERLIPIDEMIA       0.16      0.30      0.20       158\n",
      "  I-HYPERTENSION       0.02      0.32      0.04       500\n",
      "    I-MEDICATION       0.05      0.56      0.09      1532\n",
      "         I-OBESE       0.01      0.08      0.01        39\n",
      "        I-SMOKER       0.05      0.40      0.08      1095\n",
      "\n",
      "       micro avg       0.03      0.59      0.05     13570\n",
      "       macro avg       0.08      0.52      0.12     13570\n",
      "    weighted avg       0.14      0.59      0.19     13570\n",
      "\n"
     ]
    }
   ],
   "source": [
    "#perceptron\n",
    "per_no = Perceptron(verbose=10, n_jobs=-1, max_iter=20) #this is the perceptron model\n",
    "per_no.partial_fit(x_without_o_train, y_without_o_train,classes=classes_without_o)\n",
    "\n",
    "print (classification_report(y_pred=per_no.predict(x_without_o_test), y_true=y_without_o_test, labels=classes_without_o))\n"
   ]
  },
  {
   "cell_type": "code",
   "execution_count": 129,
   "metadata": {},
   "outputs": [
    {
     "name": "stdout",
     "output_type": "stream",
     "text": [
      "                  precision    recall  f1-score   support\n",
      "\n",
      "           B-CAD       0.05      0.47      0.10       730\n",
      "      B-DIABETES       0.22      0.78      0.34       738\n",
      "   B-FAMILY_HIST       0.02      0.21      0.04        24\n",
      "B-HYPERLIPIDEMIA       0.27      0.81      0.40       335\n",
      "  B-HYPERTENSION       0.19      0.81      0.31       763\n",
      "    B-MEDICATION       0.02      0.97      0.03      2616\n",
      "         B-OBESE       0.03      0.90      0.06       129\n",
      "        B-SMOKER       0.04      0.72      0.08       562\n",
      "           I-CAD       0.03      0.57      0.06      3221\n",
      "      I-DIABETES       0.01      0.39      0.02       938\n",
      "   I-FAMILY_HIST       0.03      0.18      0.05       190\n",
      "I-HYPERLIPIDEMIA       0.14      0.30      0.19       158\n",
      "  I-HYPERTENSION       0.02      0.37      0.04       500\n",
      "    I-MEDICATION       0.05      0.57      0.09      1532\n",
      "         I-OBESE       0.00      0.03      0.00        39\n",
      "        I-SMOKER       0.05      0.48      0.09      1095\n",
      "\n",
      "       micro avg       0.03      0.64      0.05     13570\n",
      "       macro avg       0.07      0.53      0.12     13570\n",
      "    weighted avg       0.06      0.64      0.10     13570\n",
      "\n",
      "0.027626315407275035\n",
      "0.6448047162859248\n",
      "0.05298261867349689\n",
      "0.07327175678533615\n",
      "0.5349050881534728\n",
      "0.11896116232209755\n",
      "0.05760530766695262\n",
      "0.6448047162859248\n",
      "0.09813743163155912\n"
     ]
    }
   ],
   "source": [
    "#support vector machine\n",
    "svm_no = SGDClassifier(alpha=.00001, max_iter=100,penalty=\"elasticnet\")\n",
    "svm_no.partial_fit(x_without_o_train, y_without_o_train,classes=classes_without_o)\n",
    "\n",
    "print (classification_report(y_pred=svm_no.predict(x_without_o_test), y_true=y_without_o_test, labels=classes_without_o))\n",
    "\n",
    "print(precision_score(y_pred=svm_no.predict(x_without_o_test), y_true=y_without_o_test, labels=classes_without_o, average='micro'))\n",
    "print(recall_score(y_pred=svm_no.predict(x_without_o_test), y_true=y_without_o_test, labels=classes_without_o, average='micro'))\n",
    "print(f1_score(y_pred=svm_no.predict(x_without_o_test), y_true=y_without_o_test, labels=classes_without_o, average='micro'))\n",
    "print(precision_score(y_pred=svm_no.predict(x_without_o_test), y_true=y_without_o_test, labels=classes_without_o, average='macro'))\n",
    "print(recall_score(y_pred=svm_no.predict(x_without_o_test), y_true=y_without_o_test, labels=classes_without_o, average='macro'))\n",
    "print(f1_score(y_pred=svm_no.predict(x_without_o_test), y_true=y_without_o_test, labels=classes_without_o, average='macro'))\n",
    "print(precision_score(y_pred=svm_no.predict(x_without_o_test), y_true=y_without_o_test, labels=classes_without_o, average='weighted'))\n",
    "print(recall_score(y_pred=svm_no.predict(x_without_o_test), y_true=y_without_o_test, labels=classes_without_o, average='weighted'))\n",
    "print(f1_score(y_pred=svm_no.predict(x_without_o_test), y_true=y_without_o_test, labels=classes_without_o, average='weighted'))"
   ]
  },
  {
   "cell_type": "code",
   "execution_count": 120,
   "metadata": {},
   "outputs": [
    {
     "name": "stdout",
     "output_type": "stream",
     "text": [
      "                  precision    recall  f1-score   support\n",
      "\n",
      "           B-CAD       0.06      0.52      0.11       730\n",
      "      B-DIABETES       0.22      0.73      0.33       738\n",
      "   B-FAMILY_HIST       0.03      0.21      0.06        24\n",
      "B-HYPERLIPIDEMIA       0.23      0.86      0.36       335\n",
      "  B-HYPERTENSION       0.21      0.81      0.34       763\n",
      "    B-MEDICATION       0.39      0.87      0.54      2616\n",
      "         B-OBESE       0.46      0.90      0.61       129\n",
      "        B-SMOKER       0.03      0.71      0.06       562\n",
      "           I-CAD       0.01      0.89      0.02      3221\n",
      "      I-DIABETES       0.06      0.45      0.11       938\n",
      "   I-FAMILY_HIST       0.03      0.17      0.06       190\n",
      "I-HYPERLIPIDEMIA       0.15      0.31      0.20       158\n",
      "  I-HYPERTENSION       0.03      0.37      0.05       500\n",
      "    I-MEDICATION       0.04      0.60      0.08      1532\n",
      "         I-OBESE       0.00      0.03      0.01        39\n",
      "        I-SMOKER       0.04      0.56      0.07      1095\n",
      "\n",
      "       micro avg       0.03      0.71      0.06     13570\n",
      "       macro avg       0.13      0.56      0.19     13570\n",
      "    weighted avg       0.13      0.71      0.20     13570\n",
      "\n",
      "0.030613114764450142\n",
      "0.7145173176123802\n",
      "0.05871079664665438\n",
      "0.12517995916114266\n",
      "0.561407105133749\n",
      "0.18780658329742855\n",
      "0.1316582708603041\n",
      "0.7145173176123802\n",
      "0.19683215269596288\n"
     ]
    }
   ],
   "source": [
    "#naive bayes\n",
    "nb_no = MultinomialNB(alpha=0.01)\n",
    "nb_no.partial_fit(x_without_o_train, y_without_o_train,classes=classes_without_o)\n",
    "\n",
    "#打印分类报告，并保留四位小数\n",
    "print (classification_report(y_pred=nb_no.predict(x_without_o_test), y_true=y_without_o_test, labels=classes_without_o))\n",
    "\n",
    "print(precision_score(y_pred=nb_no.predict(x_without_o_test), y_true=y_without_o_test, labels=classes_without_o, average='micro'))\n",
    "print(recall_score(y_pred=nb_no.predict(x_without_o_test), y_true=y_without_o_test, labels=classes_without_o, average='micro'))\n",
    "print(f1_score(y_pred=nb_no.predict(x_without_o_test), y_true=y_without_o_test, labels=classes_without_o, average='micro'))\n",
    "print(precision_score(y_pred=nb_no.predict(x_without_o_test), y_true=y_without_o_test, labels=classes_without_o, average='macro'))\n",
    "print(recall_score(y_pred=nb_no.predict(x_without_o_test), y_true=y_without_o_test, labels=classes_without_o, average='macro'))\n",
    "print(f1_score(y_pred=nb_no.predict(x_without_o_test), y_true=y_without_o_test, labels=classes_without_o, average='macro'))\n",
    "print(precision_score(y_pred=nb_no.predict(x_without_o_test), y_true=y_without_o_test, labels=classes_without_o, average='weighted'))\n",
    "print(recall_score(y_pred=nb_no.predict(x_without_o_test), y_true=y_without_o_test, labels=classes_without_o, average='weighted'))\n",
    "print(f1_score(y_pred=nb_no.predict(x_without_o_test), y_true=y_without_o_test, labels=classes_without_o, average='weighted'))\n"
   ]
  },
  {
   "cell_type": "code",
   "execution_count": 130,
   "metadata": {},
   "outputs": [
    {
     "name": "stderr",
     "output_type": "stream",
     "text": [
      "c:\\ProgramData\\Anaconda3\\lib\\site-packages\\sklearn\\metrics\\_classification.py:1318: UndefinedMetricWarning: Precision and F-score are ill-defined and being set to 0.0 in labels with no predicted samples. Use `zero_division` parameter to control this behavior.\n",
      "  _warn_prf(average, modifier, msg_start, len(result))\n",
      "c:\\ProgramData\\Anaconda3\\lib\\site-packages\\sklearn\\metrics\\_classification.py:1318: UndefinedMetricWarning: Precision and F-score are ill-defined and being set to 0.0 in labels with no predicted samples. Use `zero_division` parameter to control this behavior.\n",
      "  _warn_prf(average, modifier, msg_start, len(result))\n"
     ]
    },
    {
     "name": "stdout",
     "output_type": "stream",
     "text": [
      "                  precision    recall  f1-score   support\n",
      "\n",
      "           B-CAD       0.25      0.28      0.27       730\n",
      "      B-DIABETES       0.47      0.42      0.44       738\n",
      "   B-FAMILY_HIST       0.00      0.00      0.00        24\n",
      "B-HYPERLIPIDEMIA       0.76      0.21      0.32       335\n",
      "  B-HYPERTENSION       0.35      0.66      0.45       763\n",
      "    B-MEDICATION       0.69      0.51      0.58      2616\n",
      "         B-OBESE       0.69      0.24      0.36       129\n",
      "        B-SMOKER       0.09      0.30      0.14       562\n",
      "           I-CAD       0.01      0.98      0.02      3221\n",
      "      I-DIABETES       0.26      0.17      0.20       938\n",
      "   I-FAMILY_HIST       0.00      0.00      0.00       190\n",
      "I-HYPERLIPIDEMIA       0.00      0.00      0.00       158\n",
      "  I-HYPERTENSION       0.18      0.13      0.15       500\n",
      "    I-MEDICATION       0.07      0.18      0.10      1532\n",
      "         I-OBESE       0.00      0.00      0.00        39\n",
      "        I-SMOKER       0.38      0.11      0.17      1095\n",
      "\n",
      "       micro avg       0.02      0.47      0.04     13570\n",
      "       macro avg       0.26      0.26      0.20     13570\n",
      "    weighted avg       0.29      0.47      0.24     13570\n",
      "\n"
     ]
    },
    {
     "name": "stderr",
     "output_type": "stream",
     "text": [
      "c:\\ProgramData\\Anaconda3\\lib\\site-packages\\sklearn\\metrics\\_classification.py:1318: UndefinedMetricWarning: Precision and F-score are ill-defined and being set to 0.0 in labels with no predicted samples. Use `zero_division` parameter to control this behavior.\n",
      "  _warn_prf(average, modifier, msg_start, len(result))\n"
     ]
    }
   ],
   "source": [
    "#random forest\n",
    "rf = RandomForestClassifier(n_estimators=100, max_depth=30,random_state=533)\n",
    "rf.fit(x_without_o_train, y_without_o_train)\n",
    "\n",
    "print (classification_report(y_pred=rf.predict(x_without_o_test), y_true=y_without_o_test, labels=classes_without_o))\n",
    "\n"
   ]
  },
  {
   "cell_type": "code",
   "execution_count": 122,
   "metadata": {},
   "outputs": [
    {
     "name": "stderr",
     "output_type": "stream",
     "text": [
      "c:\\ProgramData\\Anaconda3\\lib\\site-packages\\sklearn\\linear_model\\_logistic.py:814: ConvergenceWarning: lbfgs failed to converge (status=1):\n",
      "STOP: TOTAL NO. of ITERATIONS REACHED LIMIT.\n",
      "\n",
      "Increase the number of iterations (max_iter) or scale the data as shown in:\n",
      "    https://scikit-learn.org/stable/modules/preprocessing.html\n",
      "Please also refer to the documentation for alternative solver options:\n",
      "    https://scikit-learn.org/stable/modules/linear_model.html#logistic-regression\n",
      "  n_iter_i = _check_optimize_result(\n",
      "c:\\ProgramData\\Anaconda3\\lib\\site-packages\\sklearn\\metrics\\_classification.py:1318: UndefinedMetricWarning: Precision and F-score are ill-defined and being set to 0.0 in labels with no predicted samples. Use `zero_division` parameter to control this behavior.\n",
      "  _warn_prf(average, modifier, msg_start, len(result))\n",
      "c:\\ProgramData\\Anaconda3\\lib\\site-packages\\sklearn\\metrics\\_classification.py:1318: UndefinedMetricWarning: Precision and F-score are ill-defined and being set to 0.0 in labels with no predicted samples. Use `zero_division` parameter to control this behavior.\n",
      "  _warn_prf(average, modifier, msg_start, len(result))\n"
     ]
    },
    {
     "name": "stdout",
     "output_type": "stream",
     "text": [
      "                  precision    recall  f1-score   support\n",
      "\n",
      "           B-CAD       0.08      0.49      0.13       730\n",
      "      B-DIABETES       0.29      0.70      0.41       738\n",
      "   B-FAMILY_HIST       0.07      0.08      0.07        24\n",
      "B-HYPERLIPIDEMIA       0.37      0.81      0.51       335\n",
      "  B-HYPERTENSION       0.25      0.79      0.38       763\n",
      "    B-MEDICATION       0.38      0.87      0.53      2616\n",
      "         B-OBESE       0.56      0.76      0.64       129\n",
      "        B-SMOKER       0.04      0.68      0.07       562\n",
      "           I-CAD       0.01      0.91      0.02      3221\n",
      "      I-DIABETES       0.07      0.40      0.12       938\n",
      "   I-FAMILY_HIST       0.10      0.13      0.11       190\n",
      "I-HYPERLIPIDEMIA       0.42      0.27      0.33       158\n",
      "  I-HYPERTENSION       0.03      0.32      0.05       500\n",
      "    I-MEDICATION       0.04      0.60      0.08      1532\n",
      "         I-OBESE       0.00      0.00      0.00        39\n",
      "        I-SMOKER       0.04      0.54      0.07      1095\n",
      "\n",
      "       micro avg       0.03      0.70      0.06     13570\n",
      "       macro avg       0.17      0.52      0.22     13570\n",
      "    weighted avg       0.15      0.70      0.21     13570\n",
      "\n"
     ]
    },
    {
     "name": "stderr",
     "output_type": "stream",
     "text": [
      "c:\\ProgramData\\Anaconda3\\lib\\site-packages\\sklearn\\metrics\\_classification.py:1318: UndefinedMetricWarning: Precision and F-score are ill-defined and being set to 0.0 in labels with no predicted samples. Use `zero_division` parameter to control this behavior.\n",
      "  _warn_prf(average, modifier, msg_start, len(result))\n"
     ]
    }
   ],
   "source": [
    "from sklearn.linear_model import LogisticRegression\n",
    "lr = LogisticRegression()\n",
    "lr.fit(x_without_o_train, y_without_o_train)\n",
    "\n",
    "print (classification_report(y_pred=lr.predict(x_without_o_test), y_true=y_without_o_test, labels=classes_without_o))"
   ]
  },
  {
   "cell_type": "code",
   "execution_count": 123,
   "metadata": {},
   "outputs": [
    {
     "name": "stdout",
     "output_type": "stream",
     "text": [
      "                  precision    recall  f1-score   support\n",
      "\n",
      "           B-CAD       0.05      0.55      0.09       730\n",
      "      B-DIABETES       0.20      0.73      0.32       738\n",
      "   B-FAMILY_HIST       0.02      0.21      0.04        24\n",
      "B-HYPERLIPIDEMIA       0.22      0.86      0.35       335\n",
      "  B-HYPERTENSION       0.20      0.81      0.32       763\n",
      "    B-MEDICATION       0.42      0.86      0.56      2616\n",
      "         B-OBESE       0.46      0.90      0.61       129\n",
      "        B-SMOKER       0.03      0.73      0.06       562\n",
      "           I-CAD       0.01      0.88      0.02      3221\n",
      "      I-DIABETES       0.06      0.45      0.11       938\n",
      "   I-FAMILY_HIST       0.03      0.17      0.06       190\n",
      "I-HYPERLIPIDEMIA       0.15      0.31      0.20       158\n",
      "  I-HYPERTENSION       0.02      0.37      0.05       500\n",
      "    I-MEDICATION       0.04      0.60      0.08      1532\n",
      "         I-OBESE       0.00      0.03      0.01        39\n",
      "        I-SMOKER       0.04      0.55      0.07      1095\n",
      "\n",
      "       micro avg       0.03      0.71      0.06     13570\n",
      "       macro avg       0.12      0.56      0.18     13570\n",
      "    weighted avg       0.14      0.71      0.20     13570\n",
      "\n"
     ]
    }
   ],
   "source": [
    "#decision tree\n",
    "from sklearn.tree import DecisionTreeClassifier\n",
    "dt = DecisionTreeClassifier()\n",
    "dt.fit(x_without_o_train, y_without_o_train)\n",
    "\n",
    "print (classification_report(y_pred=dt.predict(x_without_o_test), y_true=y_without_o_test, labels=classes_without_o))"
   ]
  },
  {
   "cell_type": "code",
   "execution_count": null,
   "metadata": {},
   "outputs": [],
   "source": [
    "#knn\n",
    "from sklearn.neighbors import KNeighborsClassifier\n",
    "knn = KNeighborsClassifier()\n",
    "knn.fit(x_without_o_train, y_without_o_train)\n",
    "\n",
    "print (classification_report(y_pred=knn.predict(x_without_o_test), y_true=y_without_o_test, labels=classes_without_o))"
   ]
  },
  {
   "cell_type": "markdown",
   "metadata": {},
   "source": [
    "# stanford NER tagger result calculation"
   ]
  },
  {
   "cell_type": "code",
   "execution_count": 131,
   "metadata": {},
   "outputs": [
    {
     "name": "stdout",
     "output_type": "stream",
     "text": [
      "13570\n",
      "2690 1810 3209 5861\n",
      "0.6301400147383935\n",
      "0.5977777777777777\n",
      "0.45600949313442957\n",
      "0.517357438215213\n"
     ]
    }
   ],
   "source": [
    "#y_test当中除去o的数目\n",
    "total = y_test[y_test != 'O']\n",
    "print(len(total))\n",
    "\n",
    "TP = 2690\n",
    "FP = 1810\n",
    "FN = 3209\n",
    "TN = total.size - TP - FP - FN\n",
    "print(TP, FP, FN, TN)\n",
    "\n",
    "#calculate the accuracy\n",
    "accuracy = (TP + TN) / (TP + FP + FN + TN)\n",
    "print(accuracy)\n",
    "\n",
    "#calculate the precision\n",
    "precision = TP / (TP + FP)\n",
    "print(precision)\n",
    "\n",
    "#calculate the recall\n",
    "recall = TP / (TP + FN)\n",
    "print(recall)\n",
    "\n",
    "#calculate the F1 score\n",
    "F1 = 2 * precision * recall / (precision + recall)\n",
    "print(F1)\n",
    "\n"
   ]
  },
  {
   "cell_type": "markdown",
   "metadata": {},
   "source": []
  },
  {
   "cell_type": "code",
   "execution_count": 138,
   "metadata": {},
   "outputs": [
    {
     "name": "stdout",
     "output_type": "stream",
     "text": [
      "           Entity Percision  Recall      F1    TP    FP    FN\n",
      "1             CAD    0.3425  0.1532  0.2117   112   215   619\n",
      "2        DIABETES    0.5224  0.3482  0.4179   257   235   481\n",
      "3     FAMILY_HIST         1  0.0417    0.08     1     0    23\n",
      "4  HYPERLIPIDEMIA    0.7619   0.619  0.6831   208    65   128\n",
      "5    HYPERTENSION    0.6195  0.5505  0.5829   420   258   343\n",
      "6      MEDICATION    0.6318  0.5673  0.5978  1484   865  1132\n",
      "7           OBESE     0.598  0.4729  0.5281    61    41    68\n",
      "8          SMOKER    0.5288  0.2616    0.35   147   131   415\n",
      "9          Totals    0.5978   0.456  0.5174  2690  1810  3209\n",
      "\n",
      "           Entity  Percision  Recall      F1    TP   FP    FN  support\n",
      "0             CAD     0.3425  0.1532  0.2117   112  215   619      112\n",
      "1        DIABETES     0.5224  0.3482  0.4179   257  235   481      257\n",
      "2     FAMILY_HIST     1.0000  0.0417  0.0800     1    0    23        1\n",
      "3  HYPERLIPIDEMIA     0.7619  0.6190  0.6831   208   65   128      208\n",
      "4    HYPERTENSION     0.6195  0.5505  0.5829   420  258   343      420\n",
      "5      MEDICATION     0.6318  0.5673  0.5978  1484  865  1132     1484\n",
      "6           OBESE     0.5980  0.4729  0.5281    61   41    68       61\n",
      "7          SMOKER     0.5288  0.2616  0.3500   147  131   415      147\n",
      "\n",
      "             Entity  Percision    Recall        F1    TP    FP    FN  support\n",
      "0     micro-average   0.597778  0.456009  0.517357  2690  1810  3209     2690\n",
      "1     macro-average   0.625613  0.376800  0.431437  2690  1810  3209     2690\n",
      "2  weighted-average   0.611184  0.511459  0.553492  2690  1810  3209     2690\n"
     ]
    }
   ],
   "source": [
    "#read result.txt\n",
    "path = 'E:/JHU/课程/datadesign/NLP/machine_learning/stanford-ner-4.2.0/stanford-ner-2020-11-17/test'\n",
    "\n",
    "data = pd.read_csv(path + '/result_M40_N0_chris2useLC.txt', sep='\\t', header=None, names=['Entity', 'Percision', 'Recall', 'F1', 'TP', 'FP', 'FN'])\n",
    "#Drop the first row\n",
    "data = data.drop([0])\n",
    "\n",
    "print(data)\n",
    "print('')\n",
    "\n",
    "#Drop the last row\n",
    "data = data.drop([len(data)])\n",
    "data = data.reset_index(drop=True)\n",
    "\n",
    "\n",
    "#convert the data type\n",
    "data['Percision'] = data['Percision'].astype(float)\n",
    "data['Recall'] = data['Recall'].astype(float)\n",
    "data['F1'] = data['F1'].astype(float)\n",
    "data['TP'] = data['TP'].astype(int)\n",
    "data['FP'] = data['FP'].astype(int)\n",
    "data['FN'] = data['FN'].astype(int)\n",
    "#print(data)\n",
    "\n",
    "#calculate the micro average\n",
    "TP = data['TP'].sum()\n",
    "FP = data['FP'].sum()\n",
    "FN = data['FN'].sum()\n",
    "micro_precision = TP / (TP + FP)\n",
    "micro_recall = TP / (TP + FN)\n",
    "micro_F1 = 2 * micro_precision * micro_recall / (micro_precision + micro_recall)\n",
    "\n",
    "#calculate the macro average\n",
    "macro_precision = data['Percision'].mean()\n",
    "macro_recall = data['Recall'].mean()\n",
    "macro_F1 = data['F1'].mean()\n",
    "\n",
    "#calculate the support\n",
    "support = data['TP']\n",
    "#print(support)\n",
    "#add the support to the dataframe\n",
    "data['support'] = support\n",
    "support_proportion = support / support.sum()\n",
    "#print(support_proportion)\n",
    "\n",
    "#calculate the weighted average\n",
    "weighted_precision = (data['Percision'] * support_proportion).sum()\n",
    "weighted_recall = (data['Recall'] * support_proportion).sum()\n",
    "weighted_F1 = (data['F1'] * support_proportion).sum()\n",
    "\n",
    "\n",
    "Evalution = pd.DataFrame(columns=['Entity', 'Percision', 'Recall', 'F1', 'TP', 'FP', 'FN','support'])\n",
    "Evalution.loc[len(Evalution)] = ['micro-average', micro_precision, micro_recall, micro_F1, TP, FP, FN, support.sum()]\n",
    "Evalution.loc[len(Evalution)] = ['macro-average', macro_precision, macro_recall, macro_F1, TP, FP, FN, support.sum()]\n",
    "Evalution.loc[len(Evalution)] = ['weighted-average', weighted_precision, weighted_recall, weighted_F1, TP, FP, FN, support.sum()]\n",
    "\n",
    "\n",
    "print(data)\n",
    "print('')\n",
    "print(Evalution)\n"
   ]
  }
 ],
 "metadata": {
  "kernelspec": {
   "display_name": "base",
   "language": "python",
   "name": "python3"
  },
  "language_info": {
   "codemirror_mode": {
    "name": "ipython",
    "version": 3
   },
   "file_extension": ".py",
   "mimetype": "text/x-python",
   "name": "python",
   "nbconvert_exporter": "python",
   "pygments_lexer": "ipython3",
   "version": "3.9.13"
  },
  "orig_nbformat": 4,
  "vscode": {
   "interpreter": {
    "hash": "ad2bdc8ecc057115af97d19610ffacc2b4e99fae6737bb82f5d7fb13d2f2c186"
   }
  }
 },
 "nbformat": 4,
 "nbformat_minor": 2
}
